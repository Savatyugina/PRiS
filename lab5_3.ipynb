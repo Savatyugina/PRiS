{
 "cells": [
  {
   "cell_type": "code",
   "execution_count": 1,
   "metadata": {
    "colab": {},
    "colab_type": "code",
    "id": "33gMNEJrtoJv"
   },
   "outputs": [],
   "source": [
    "import numpy as np\n",
    "import random\n",
    "import math\n",
    "import tensorflow as tf\n",
    "import matplotlib.pyplot as plt"
   ]
  },
  {
   "cell_type": "markdown",
   "metadata": {},
   "source": [
    "Генерация данных"
   ]
  },
  {
   "cell_type": "code",
   "execution_count": 2,
   "metadata": {
    "colab": {},
    "colab_type": "code",
    "id": "ZMEd4NORtoJ1"
   },
   "outputs": [],
   "source": [
    "def data_generation(isTrain, batch_size, seq_length):\n",
    "    batch_x = [] \n",
    "    batch_y = []\n",
    "\n",
    "    for _ in range(batch_size):\n",
    "        rand_off = random.random() * 2 * math.pi\n",
    "        freq_rand = (random.random() - 0.5) / 1.5 * 15 + 0.5\n",
    "        amp_rand = random.random() + 0.1\n",
    "        \n",
    "        sig1 = amp_rand * np.sin(np.linspace(\n",
    "            seq_length / 15.0 * freq_rand * 0.0 * math.pi + rand_off,\n",
    "            seq_length / 15.0 * freq_rand * 3.0 * math.pi + rand_off ,\n",
    "            seq_length * 2))\n",
    "        \n",
    "        rand_off = random.random() * 2 * math.pi\n",
    "        freq_rand = (random.random() - 0.5) / 1.5 * 15 + 0.5\n",
    "        amp_rand = random.random() * 1.2\n",
    "        sig1 = amp_rand * np.cos(np.linspace(\n",
    "            seq_length / 15.0 * freq_rand * 0.0 * math.pi + rand_off,\n",
    "            seq_length / 15.0 * freq_rand * 3.0 * math.pi + rand_off ,\n",
    "            seq_length * 2)) + sig1\n",
    "        \n",
    "        x1 = sig1[:seq_length]\n",
    "        y1 = sig1[seq_length:]\n",
    "        x_ = np.array([x1])\n",
    "        y_ = np.array([y1])\n",
    "        x_, y_ = x_.T, y_.T\n",
    "        \n",
    "        batch_x.append(x_)\n",
    "        batch_y.append(y_)\n",
    "        \n",
    "    batch_x = np.array(batch_x)\n",
    "    batch_y = np.array(batch_y)\n",
    "    \n",
    "    batch_x = np.array(batch_x).transpose((1, 0, 2))\n",
    "    batch_y = np.array(batch_y).transpose((1, 0, 2))\n",
    "    \n",
    "\n",
    "    return batch_x , batch_y"
   ]
  },
  {
   "cell_type": "code",
   "execution_count": 3,
   "metadata": {
    "colab": {},
    "colab_type": "code",
    "id": "-zJSxFtYtoJ9"
   },
   "outputs": [],
   "source": [
    "#добавлены шумы\n",
    "def data_generation_v3(isTrain , batch_size): \n",
    "    x, y = data_generation(isTrain, batch_size, seq_length=30) \n",
    "    noise = (random.random() * 0.15+0.10) * np.random.randn(30, batch_size, 1)\n",
    "    x = x + noise \n",
    "    avg = np.average(x) \n",
    "    std = np.std(x)+0.0001\n",
    "    x = (x - avg) / std / 2.5 \n",
    "    y = (y - avg) / std / 2.5 \n",
    "    return x, y"
   ]
  },
  {
   "cell_type": "markdown",
   "metadata": {},
   "source": [
    "Определение параметров нейросети"
   ]
  },
  {
   "cell_type": "code",
   "execution_count": 4,
   "metadata": {},
   "outputs": [],
   "source": [
    "# Данные имеют размерность (seq_length , batch_size , output_dim) \n",
    "sample_x , sample_y = data_generation_v3(isTrain=True , batch_size=3)\n",
    "# Длина последовательности\n",
    "seq_length = sample_x.shape[0] \n",
    "# Размер пакета количество(тестовых примеров)\n",
    "batch_size = 15\n",
    "# Размерность выходных данных \n",
    "output_dim = input_dim = sample_x.shape[-1]\n",
    "# Количество скрытых нейронов в каждой ячейке\n",
    "hidden_dim = 20\n",
    "# Количество ячеек рекуррентной сети (в глубину)\n",
    "layers_stacked_count = 2\n",
    "# Параметры оптимизатора \n",
    "# Скорость обучения\n",
    "learning_rate = 0.009\n",
    "# Количество итераций по обучающей выборке \n",
    "nb_iters = 5000\n",
    "# Дополнительные параметры алгоритма оптимизации\n",
    "lr_decay = 0.9\n",
    "momentum = 0.5\n",
    "# Коэффициент L2 регуляризации\n",
    "lambda_l2_reg = 0.0001\n",
    "\n"
   ]
  },
  {
   "cell_type": "markdown",
   "metadata": {},
   "source": [
    "Описание графа вычислений"
   ]
  },
  {
   "cell_type": "code",
   "execution_count": 5,
   "metadata": {
    "colab": {},
    "colab_type": "code",
    "id": "4GnN9xfbtoKH"
   },
   "outputs": [
    {
     "name": "stdout",
     "output_type": "stream",
     "text": [
      "WARNING:tensorflow:\n",
      "The TensorFlow contrib module will not be included in TensorFlow 2.0.\n",
      "For more information, please see:\n",
      "  * https://github.com/tensorflow/community/blob/master/rfcs/20180907-contrib-sunset.md\n",
      "  * https://github.com/tensorflow/addons\n",
      "  * https://github.com/tensorflow/io (for I/O related ops)\n",
      "If you depend on functionality not listed there, please file an issue.\n",
      "\n"
     ]
    }
   ],
   "source": [
    "tf.nn.seq2seq = tf.contrib.legacy_seq2seq\n",
    "tf.nn.rnn_cell = tf.contrib.rnn\n",
    "tf.nn.rnn_cell.GRUCell = tf.contrib.rnn.GRUCell"
   ]
  },
  {
   "cell_type": "code",
   "execution_count": 6,
   "metadata": {
    "colab": {
     "base_uri": "https://localhost:8080/",
     "height": 74
    },
    "colab_type": "code",
    "id": "X4m1AAWgBJxt",
    "outputId": "60303888-e7f4-464c-8ed1-714f7ad558d5"
   },
   "outputs": [],
   "source": [
    "tf.reset_default_graph()\n",
    "sess = tf.InteractiveSession()"
   ]
  },
  {
   "cell_type": "code",
   "execution_count": 7,
   "metadata": {
    "colab": {},
    "colab_type": "code",
    "id": "tAyKl7o6toKN"
   },
   "outputs": [
    {
     "name": "stdout",
     "output_type": "stream",
     "text": [
      "WARNING:tensorflow:From <ipython-input-7-ef04c406aa71>:17: GRUCell.__init__ (from tensorflow.python.ops.rnn_cell_impl) is deprecated and will be removed in a future version.\n",
      "Instructions for updating:\n",
      "This class is equivalent as tf.keras.layers.GRUCell, and will be replaced by that in Tensorflow 2.0.\n",
      "WARNING:tensorflow:From <ipython-input-7-ef04c406aa71>:19: MultiRNNCell.__init__ (from tensorflow.python.ops.rnn_cell_impl) is deprecated and will be removed in a future version.\n",
      "Instructions for updating:\n",
      "This class is equivalent as tf.keras.layers.StackedRNNCells, and will be replaced by that in Tensorflow 2.0.\n",
      "WARNING:tensorflow:From //anaconda3/lib/python3.7/site-packages/tensorflow_core/contrib/legacy_seq2seq/python/ops/seq2seq.py:186: static_rnn (from tensorflow.python.ops.rnn) is deprecated and will be removed in a future version.\n",
      "Instructions for updating:\n",
      "Please use `keras.layers.RNN(cell, unroll=True)`, which is equivalent to this API\n",
      "WARNING:tensorflow:From //anaconda3/lib/python3.7/site-packages/tensorflow_core/python/ops/rnn_cell_impl.py:559: Layer.add_variable (from tensorflow.python.keras.engine.base_layer) is deprecated and will be removed in a future version.\n",
      "Instructions for updating:\n",
      "Please use `layer.add_weight` method instead.\n",
      "WARNING:tensorflow:From //anaconda3/lib/python3.7/site-packages/tensorflow_core/python/ops/rnn_cell_impl.py:565: calling Constant.__init__ (from tensorflow.python.ops.init_ops) with dtype is deprecated and will be removed in a future version.\n",
      "Instructions for updating:\n",
      "Call initializer instance with the dtype argument instead of passing it to the constructor\n",
      "WARNING:tensorflow:From //anaconda3/lib/python3.7/site-packages/tensorflow_core/python/ops/rnn_cell_impl.py:575: calling Zeros.__init__ (from tensorflow.python.ops.init_ops) with dtype is deprecated and will be removed in a future version.\n",
      "Instructions for updating:\n",
      "Call initializer instance with the dtype argument instead of passing it to the constructor\n"
     ]
    }
   ],
   "source": [
    "with tf.variable_scope('Seq2seq'):\n",
    "    enc_inp = [\n",
    "        tf.placeholder(tf.float32, shape=(None, input_dim), name=\"inp_{}\".format(t))\n",
    "            for t in range(seq_length)\n",
    "    ]\n",
    "\n",
    "    expected_sparse_output = [\n",
    "        tf.placeholder(tf.float32 , shape=(None , output_dim), name=\"expected_sparse_output_\".format(t))\n",
    "            for t in range(seq_length)\n",
    "    ]\n",
    "    \n",
    "    dec_inp = [ tf.zeros_like(enc_inp[0], dtype=np.float32 , name=\"GO\") ] + enc_inp[:-1]\n",
    "    \n",
    "    cells = []\n",
    "    for i in range(layers_stacked_count):\n",
    "        with tf.variable_scope('RNN_{}'.format(i)):\n",
    "            cells.append(tf.nn.rnn_cell.GRUCell(hidden_dim))\n",
    "            \n",
    "    cell = tf.nn.rnn_cell.MultiRNNCell(cells)\n",
    "    \n",
    "    w_in = tf.Variable(tf.random_normal([input_dim , hidden_dim]))\n",
    "    b_in = tf.Variable(tf.random_normal([hidden_dim], mean=1.0))\n",
    "    w_out = tf.Variable(tf.random_normal([hidden_dim , output_dim]))\n",
    "    b_out = tf.Variable(tf.random_normal([output_dim]))\n",
    "    \n",
    "\n",
    "    reshaped_inputs = [tf.nn.relu(tf.matmul(i, w_in) + b_in) for i in enc_inp]\n",
    "    \n",
    "    dec_outputs, dec_memory = tf.nn.seq2seq.basic_rnn_seq2seq(\n",
    "        enc_inp,\n",
    "        dec_inp,\n",
    "        cell\n",
    "    )\n",
    "    \n",
    "    output_scale_factor = tf.Variable(1.0, name=\"Output_ScaleFactor\")\n",
    "    reshaped_outputs = [output_scale_factor * (tf.matmul(i, w_out) + b_out) for i in dec_outputs]\n"
   ]
  },
  {
   "cell_type": "markdown",
   "metadata": {},
   "source": [
    "Описание функции потерь"
   ]
  },
  {
   "cell_type": "code",
   "execution_count": 8,
   "metadata": {
    "colab": {},
    "colab_type": "code",
    "id": "ejn6L2BNtoKS"
   },
   "outputs": [],
   "source": [
    "with tf.variable_scope('Loss'):\n",
    "    # L2 loss\n",
    "    output_loss = 0\n",
    "    for _y, _Y in zip(reshaped_outputs, expected_sparse_output):\n",
    "        output_loss += tf.reduce_mean(tf.nn.l2_loss(_y - _Y))\n",
    "\n",
    "    # слагаемое, отвечающее за L2 регуляризацию\n",
    "    reg_loss = 0\n",
    "    for tf_var in tf.trainable_variables():\n",
    "        if not (\"Bias\" in tf_var.name or \"Output_\" in tf_var.name):\n",
    "            reg_loss += tf.reduce_mean(tf.nn.l2_loss(tf_var))\n",
    "\n",
    "    loss = output_loss  + lambda_l2_reg * reg_loss"
   ]
  },
  {
   "cell_type": "markdown",
   "metadata": {},
   "source": [
    "Описание оптимизатора"
   ]
  },
  {
   "cell_type": "code",
   "execution_count": 9,
   "metadata": {
    "colab": {},
    "colab_type": "code",
    "id": "UBk2DhPPBTLm"
   },
   "outputs": [
    {
     "name": "stdout",
     "output_type": "stream",
     "text": [
      "WARNING:tensorflow:From //anaconda3/lib/python3.7/site-packages/tensorflow_core/python/training/rmsprop.py:119: calling Ones.__init__ (from tensorflow.python.ops.init_ops) with dtype is deprecated and will be removed in a future version.\n",
      "Instructions for updating:\n",
      "Call initializer instance with the dtype argument instead of passing it to the constructor\n"
     ]
    }
   ],
   "source": [
    "with tf.variable_scope('Optimizer'):\n",
    "    optimizer = tf.train.RMSPropOptimizer(learning_rate, decay=lr_decay, momentum=momentum)\n",
    "    train_op = optimizer.minimize(loss)"
   ]
  },
  {
   "cell_type": "markdown",
   "metadata": {},
   "source": [
    "Обучение и валидация НС"
   ]
  },
  {
   "cell_type": "code",
   "execution_count": 10,
   "metadata": {
    "colab": {},
    "colab_type": "code",
    "id": "dLraBCfDtoKa"
   },
   "outputs": [],
   "source": [
    "# Шаг обучения, который оптимизирует веса в соответствии с переданным минипакетом-примеров\n",
    "def train_batch(batch_size):\n",
    "    X, Y = data_generation_v3(isTrain=True , batch_size=batch_size)\n",
    "    feed_dict = {enc_inp[t]: X[t] for t in range(len(enc_inp))} \n",
    "    feed_dict.update({expected_sparse_output[t]: Y[t] for t in range(len(expected_sparse_output))}) \n",
    "    #  запускаем сессию. При этом рассчитываются тензоры, указанные в первом параметре, \n",
    "    # а значения для них берутся из второго параметра\n",
    "    _, loss_t = sess.run([train_op , loss], feed_dict)\n",
    "    \n",
    "    return loss_t"
   ]
  },
  {
   "cell_type": "code",
   "execution_count": 11,
   "metadata": {
    "colab": {},
    "colab_type": "code",
    "id": "KZFlv0wYBbo1"
   },
   "outputs": [],
   "source": [
    "def test_batch(batch_size): \n",
    "    X, Y = data_generation_v3(isTrain=False, batch_size=batch_size)\n",
    "    feed_dict = {enc_inp[t]: X[t] for t in range(len(enc_inp))}\n",
    "    feed_dict.update({expected_sparse_output[t]: Y[t] for t in range(len(expected_sparse_output))}) \n",
    "    loss_t = sess.run([loss], feed_dict)\n",
    "    return loss_t[0]"
   ]
  },
  {
   "cell_type": "code",
   "execution_count": 12,
   "metadata": {
    "colab": {
     "base_uri": "https://localhost:8080/",
     "height": 599
    },
    "colab_type": "code",
    "id": "MTtfXLewtoKf",
    "outputId": "4b5be76d-5e05-4820-898f-758f4a94eeaf"
   },
   "outputs": [
    {
     "name": "stdout",
     "output_type": "stream",
     "text": [
      "Step 0/5000, \t train loss: 89.95858001708984, \tTEST loss: 133.43499755859375\n",
      "Step 500/5000, \t train loss: 30.98847770690918, \tTEST loss: 27.935853958129883\n",
      "Step 1000/5000, \t train loss: 29.24488639831543, \tTEST loss: 26.528417587280273\n",
      "Step 1500/5000, \t train loss: 31.109193801879883, \tTEST loss: 31.826183319091797\n",
      "Step 2000/5000, \t train loss: 25.968425750732422, \tTEST loss: 31.55506134033203\n",
      "Step 2500/5000, \t train loss: 22.901731491088867, \tTEST loss: 19.41493797302246\n",
      "Step 3000/5000, \t train loss: 23.734678268432617, \tTEST loss: 22.983509063720703\n",
      "Step 3500/5000, \t train loss: 25.514301300048828, \tTEST loss: 22.301145553588867\n",
      "Step 4000/5000, \t train loss: 30.86069107055664, \tTEST loss: 29.406997680664062\n",
      "Step 4500/5000, \t train loss: 19.1590576171875, \tTEST loss: 21.055171966552734\n",
      "Step 5000/5000, \t train loss: 24.646148681640625, \tTEST loss: 18.020267486572266\n",
      "Fin. train loss: 24.646148681640625, \tTEST loss: 18.020267486572266\n"
     ]
    }
   ],
   "source": [
    "train_losses = []\n",
    "test_losses = []\n",
    "sess.run(tf.global_variables_initializer())\n",
    "\n",
    "#nb_iters - количество шагов для обучения. После каждых 10 шагов проверяется ошибка на тестовой выборке\n",
    "\n",
    "for t in range(nb_iters+1):\n",
    "    train_loss = train_batch(batch_size)\n",
    "    train_losses.append(train_loss)\n",
    "\n",
    "    if t % 500 == 0:\n",
    "        test_loss = test_batch(batch_size)\n",
    "        test_losses.append(test_loss)\n",
    "        print(\"Step {}/{}, \\t train loss: {}, \\tTEST loss: {}\".format(t, nb_iters , train_loss , test_loss))\n",
    "\n",
    "print(\"Fin. train loss: {}, \\tTEST loss: {}\".format(train_loss , test_loss))\n"
   ]
  },
  {
   "cell_type": "markdown",
   "metadata": {},
   "source": [
    "Визуализация процесса обучения"
   ]
  },
  {
   "cell_type": "code",
   "execution_count": 13,
   "metadata": {
    "colab": {
     "base_uri": "https://localhost:8080/",
     "height": 404
    },
    "colab_type": "code",
    "id": "_I6tLG0VtoKk",
    "outputId": "4276fba3-9f74-426b-f22e-fdb276e68c07"
   },
   "outputs": [
    {
     "data": {
      "image/png": "[encoded data removed]",
      "text/plain": [
       "<Figure size 864x432 with 1 Axes>"
      ]
     },
     "metadata": {
      "needs_background": "light"
     },
     "output_type": "display_data"
    }
   ],
   "source": [
    "plt.figure(figsize=(12, 6))\n",
    "plt.plot( \n",
    "    np.array(range(0, len(test_losses)))/float(len(test_losses)-1)*(len(train_losses)-1), \n",
    "    np.log(test_losses), \n",
    "    label=\"Test loss\" \n",
    ")\n",
    "plt.plot( \n",
    "    np.log(train_losses), \n",
    "    label=\"Train loss\" \n",
    ")\n",
    "plt.title(\"Training errors over time (on a logarithmic scale)\") \n",
    "plt.xlabel('Iteration')\n",
    "plt.ylabel('log(Loss)') \n",
    "plt.legend(loc='best') \n",
    "plt.show()"
   ]
  },
  {
   "cell_type": "markdown",
   "metadata": {},
   "source": [
    "Визуализация результата"
   ]
  },
  {
   "cell_type": "code",
   "execution_count": 15,
   "metadata": {
    "colab": {
     "base_uri": "https://localhost:8080/",
     "height": 245
    },
    "colab_type": "code",
    "id": "BRZAN3zktoKp",
    "outputId": "09bb60f4-987a-4de5-bb3f-8f764906fe0f"
   },
   "outputs": [
    {
     "name": "stdout",
     "output_type": "stream",
     "text": [
      "Visualization:\n"
     ]
    },
    {
     "data": {
      "image/png": "[encoded data removed]",
      "text/plain": [
       "<Figure size 864x216 with 1 Axes>"
      ]
     },
     "metadata": {
      "needs_background": "light"
     },
     "output_type": "display_data"
    }
   ],
   "source": [
    "print(\"Visualization:\")\n",
    "\n",
    "X, Y = data_generation_v3(isTrain=False, batch_size = 1)\n",
    "feed_dict = { enc_inp [t]: X[t] for t in range(seq_length)}\n",
    "outputs = np.array(sess.run([reshaped_outputs], feed_dict)[0])\n",
    "\n",
    "# выводим предсказания по каждому пакету\n",
    "for j in range(1):\n",
    "    plt.figure(figsize=(12, 3))\n",
    "\n",
    "    for k in range(output_dim):\n",
    "        past = X[:,j,k]\n",
    "        expected = Y[:,j,k]\n",
    "        pred = outputs [:,j,k]\n",
    "\n",
    "    label1 = \"Seen (past) values\" \n",
    "    label2 = \"True future values\"\n",
    "    label3 = \"Predictions\"\n",
    "\n",
    "    plt.plot(range(len(past)), past, \"o--b\", label = label1)\n",
    "    plt.plot(range(len(past), len(expected) + len(past)), expected, \"x--b\", label = label2)\n",
    "    plt.plot(range(len(past), len(pred) + len(past)), pred, \"o--y\", label = label3 )\n",
    "\n",
    "    plt.legend(loc ='best')\n",
    "    plt.title(\"Predictions v.s. true values\")\n",
    "    plt.show()"
   ]
  },
  {
   "cell_type": "code",
   "execution_count": null,
   "metadata": {},
   "outputs": [],
   "source": []
  }
 ],
 "metadata": {
  "colab": {
   "collapsed_sections": [],
   "name": "6lab_part3.ipynb",
   "provenance": []
  },
  "kernelspec": {
   "display_name": "Python 3",
   "language": "python",
   "name": "python3"
  },
  "language_info": {
   "codemirror_mode": {
    "name": "ipython",
    "version": 3
   },
   "file_extension": ".py",
   "mimetype": "text/x-python",
   "name": "python",
   "nbconvert_exporter": "python",
   "pygments_lexer": "ipython3",
   "version": "3.7.3"
  }
 },
 "nbformat": 4,
 "nbformat_minor": 1
}
