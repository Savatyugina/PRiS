{
 "cells": [
  {
   "cell_type": "code",
   "execution_count": 1,
   "metadata": {
    "colab": {},
    "colab_type": "code",
    "id": "mqHpSAQNtlG9"
   },
   "outputs": [],
   "source": [
    "import numpy as np\n",
    "import random\n",
    "import math\n",
    "import tensorflow as tf\n",
    "import matplotlib.pyplot as plt"
   ]
  },
  {
   "cell_type": "markdown",
   "metadata": {
    "colab_type": "text",
    "id": "_F3bZytj868M"
   },
   "source": [
    "Генерация данных"
   ]
  },
  {
   "cell_type": "code",
   "execution_count": 26,
   "metadata": {
    "colab": {},
    "colab_type": "code",
    "id": "aOAKCElotlHQ"
   },
   "outputs": [],
   "source": [
    "def generate_x_y_data_two_freqs(isTrain, batch_size, seq_length):\n",
    "    batch_x = [] \n",
    "    batch_y = []\n",
    "\n",
    "    for _ in range(batch_size):\n",
    "        offset_rand = random.random() * 2 * math.pi\n",
    "        freq_rand = (random.random() - 0.5) / 1.5 * 15 + 0.5\n",
    "        amp_rand = random.random() + 0.1\n",
    "        \n",
    "        sig1 = amp_rand * np.sin(np.linspace(\n",
    "            seq_length / 15.0 * freq_rand * 0.0 * math.pi + offset_rand,\n",
    "            seq_length / 15.0 * freq_rand * 3.0 * math.pi + offset_rand, \n",
    "            seq_length * 2))\n",
    "\n",
    "        offset_rand = random.random() * 2 * math.pi\n",
    "        freq_rand = (random.random() - 0.5) / 1.5 * 15 + 0.5\n",
    "        amp_rand = random.random() * 1.2\n",
    "        sig1 = amp_rand * np.cos(np.linspace(\n",
    "            seq_length / 15.0 * freq_rand * 0.0 * math.pi + offset_rand,\n",
    "            seq_length / 15.0 * freq_rand * 3.0 * math.pi + offset_rand,\n",
    "            seq_length * 2)) + sig1\n",
    "        \n",
    "        x1 = sig1[:seq_length]\n",
    "        y1 = sig1[seq_length:]\n",
    "        x_ = np.array([x1])\n",
    "        y_ = np.array([y1])\n",
    "        x_, y_ = x_.T, y_.T\n",
    "        \n",
    "        batch_x.append(x_)\n",
    "        batch_y.append(y_)\n",
    "       \n",
    "    batch_x = np.array(batch_x)\n",
    "    batch_y = np.array(batch_y)\n",
    "    # размерность: (batch_size , seq_length , output_dim)\n",
    "    batch_x = np.array(batch_x).transpose((1, 0, 2))\n",
    "    batch_y = np.array(batch_y).transpose((1, 0, 2))\n",
    "  \n",
    "\n",
    "    return batch_x , batch_y"
   ]
  },
  {
   "cell_type": "code",
   "execution_count": 27,
   "metadata": {
    "colab": {},
    "colab_type": "code",
    "id": "2m9DMNsRtlHX"
   },
   "outputs": [],
   "source": [
    "#генерируется сигнал, являющийся суперпозицией двух частот\n",
    "def generate_x_y_data_v1(isTrain, batch_size):\n",
    "    return generate_x_y_data_two_freqs(isTrain, batch_size, seq_length=15)"
   ]
  },
  {
   "cell_type": "code",
   "execution_count": 28,
   "metadata": {
    "colab": {},
    "colab_type": "code",
    "id": "65YGS-Ab9gZ-"
   },
   "outputs": [],
   "source": [
    "# Данные имеют размерность (seq_length , batch_size , output_dim) \n",
    "sample_x , sample_y = generate_x_y_data_v1(isTrain=True , batch_size=3)"
   ]
  },
  {
   "cell_type": "markdown",
   "metadata": {
    "colab_type": "text",
    "id": "5YwmaSeJ9Qif"
   },
   "source": [
    "Определение параметров нейросети"
   ]
  },
  {
   "cell_type": "code",
   "execution_count": 5,
   "metadata": {
    "colab": {},
    "colab_type": "code",
    "id": "0q9MoKubtlHp"
   },
   "outputs": [],
   "source": [
    "# Длина последовательности (в данных примерах одинаковая для обучающих и тестовых данных)\n",
    "seq_length = sample_x.shape[0] \n",
    "\n",
    "# Размер пакета количество(тестовых примеров), по которому усредняется градиент\n",
    "batch_size = 15\n",
    "\n",
    "# Размерность выходных данных \n",
    "output_dim = input_dim = sample_x.shape[-1]\n",
    "\n",
    "# Количество скрытых нейронов в каждой ячейке\n",
    "hidden_dim = 20\n",
    "\n",
    "# Количество ячеек рекуррентной сети (в глубину)\n",
    "layers_stacked_count = 2"
   ]
  },
  {
   "cell_type": "code",
   "execution_count": 6,
   "metadata": {},
   "outputs": [
    {
     "data": {
      "text/plain": [
       "1"
      ]
     },
     "execution_count": 6,
     "metadata": {},
     "output_type": "execute_result"
    }
   ],
   "source": [
    "input_dim"
   ]
  },
  {
   "cell_type": "code",
   "execution_count": 7,
   "metadata": {
    "colab": {},
    "colab_type": "code",
    "id": "7BzCPjc-9nVb"
   },
   "outputs": [],
   "source": [
    "# Параметры оптимизатора \n",
    "# Скорость обучения маленькая (скорость обучения позволяет алгоритму не расходиться во время обучения)\n",
    "learning_rate = 0.01\n",
    "\n",
    "# Количество итераций по обучающей выборке \n",
    "nb_iters = 5000\n",
    "\n",
    "# Дополнительные параметры алгоритма оптимизации\n",
    "lr_decay = 0.9\n",
    "momentum = 0.3\n",
    "\n",
    "# Коэффициент L2 регуляризации\n",
    "lambda_l2_reg = 0.0001"
   ]
  },
  {
   "cell_type": "code",
   "execution_count": 8,
   "metadata": {
    "colab": {},
    "colab_type": "code",
    "id": "t7wR9VPLtlH0"
   },
   "outputs": [
    {
     "name": "stdout",
     "output_type": "stream",
     "text": [
      "WARNING:tensorflow:\n",
      "The TensorFlow contrib module will not be included in TensorFlow 2.0.\n",
      "For more information, please see:\n",
      "  * https://github.com/tensorflow/community/blob/master/rfcs/20180907-contrib-sunset.md\n",
      "  * https://github.com/tensorflow/addons\n",
      "  * https://github.com/tensorflow/io (for I/O related ops)\n",
      "If you depend on functionality not listed there, please file an issue.\n",
      "\n"
     ]
    }
   ],
   "source": [
    "tf.nn.seq2seq = tf.contrib.legacy_seq2seq\n",
    "tf.nn.rnn_cell = tf.contrib.rnn\n",
    "tf.nn.rnn_cell.GRUCell = tf.contrib.rnn.GRUCell"
   ]
  },
  {
   "cell_type": "code",
   "execution_count": 9,
   "metadata": {
    "colab": {
     "base_uri": "https://localhost:8080/",
     "height": 74
    },
    "colab_type": "code",
    "id": "XK3EUWin9s_T",
    "outputId": "f46d25e4-a87d-4ca2-868b-cdc04673b40f"
   },
   "outputs": [],
   "source": [
    "tf.reset_default_graph()\n",
    "# интерактивная сессия\n",
    "sess = tf.InteractiveSession()"
   ]
  },
  {
   "cell_type": "markdown",
   "metadata": {
    "colab_type": "text",
    "id": "Q-4JXrgs9wPM"
   },
   "source": [
    "Описание графа вычислений"
   ]
  },
  {
   "cell_type": "code",
   "execution_count": 10,
   "metadata": {
    "colab": {},
    "colab_type": "code",
    "id": "LS7W_Oo7tlH_"
   },
   "outputs": [
    {
     "name": "stdout",
     "output_type": "stream",
     "text": [
      "WARNING:tensorflow:From <ipython-input-10-c78cab035011>:19: GRUCell.__init__ (from tensorflow.python.ops.rnn_cell_impl) is deprecated and will be removed in a future version.\n",
      "Instructions for updating:\n",
      "This class is equivalent as tf.keras.layers.GRUCell, and will be replaced by that in Tensorflow 2.0.\n",
      "WARNING:tensorflow:From <ipython-input-10-c78cab035011>:21: MultiRNNCell.__init__ (from tensorflow.python.ops.rnn_cell_impl) is deprecated and will be removed in a future version.\n",
      "Instructions for updating:\n",
      "This class is equivalent as tf.keras.layers.StackedRNNCells, and will be replaced by that in Tensorflow 2.0.\n",
      "WARNING:tensorflow:From //anaconda3/lib/python3.7/site-packages/tensorflow_core/contrib/legacy_seq2seq/python/ops/seq2seq.py:186: static_rnn (from tensorflow.python.ops.rnn) is deprecated and will be removed in a future version.\n",
      "Instructions for updating:\n",
      "Please use `keras.layers.RNN(cell, unroll=True)`, which is equivalent to this API\n",
      "WARNING:tensorflow:From //anaconda3/lib/python3.7/site-packages/tensorflow_core/python/ops/rnn_cell_impl.py:559: Layer.add_variable (from tensorflow.python.keras.engine.base_layer) is deprecated and will be removed in a future version.\n",
      "Instructions for updating:\n",
      "Please use `layer.add_weight` method instead.\n",
      "WARNING:tensorflow:From //anaconda3/lib/python3.7/site-packages/tensorflow_core/python/ops/rnn_cell_impl.py:565: calling Constant.__init__ (from tensorflow.python.ops.init_ops) with dtype is deprecated and will be removed in a future version.\n",
      "Instructions for updating:\n",
      "Call initializer instance with the dtype argument instead of passing it to the constructor\n",
      "WARNING:tensorflow:From //anaconda3/lib/python3.7/site-packages/tensorflow_core/python/ops/rnn_cell_impl.py:575: calling Zeros.__init__ (from tensorflow.python.ops.init_ops) with dtype is deprecated and will be removed in a future version.\n",
      "Instructions for updating:\n",
      "Call initializer instance with the dtype argument instead of passing it to the constructor\n"
     ]
    }
   ],
   "source": [
    "with tf.variable_scope('Seq2seq'):\n",
    "    enc_inp = [\n",
    "        tf.placeholder(tf.float32, shape=(None, input_dim),\n",
    "                       name=\"inp_{}\".format(t)) for t in range(seq_length)\n",
    "    ]\n",
    "\n",
    "    expected_sparse_output = [\n",
    "        tf.placeholder(tf.float32 , shape=(None, output_dim),\n",
    "                       name=\"expected_sparse_output_\".format(t)) \n",
    "                       for t in range(seq_length)\n",
    "    ]\n",
    "    \n",
    "    dec_inp = [tf.zeros_like(enc_inp[0], \n",
    "                             dtype=np.float32, name=\"GO\") ] + enc_inp[:-1]\n",
    "    \n",
    "    cells = []\n",
    "    for i in range(layers_stacked_count):\n",
    "        with tf.variable_scope('RNN_{}'.format(i)):\n",
    "            cells.append(tf.nn.rnn_cell.GRUCell(hidden_dim))\n",
    "            \n",
    "    cell = tf.nn.rnn_cell.MultiRNNCell(cells)\n",
    "    \n",
    "    w_in = tf.Variable(tf.random_normal([input_dim, hidden_dim]))\n",
    "    b_in = tf.Variable(tf.random_normal([hidden_dim], mean=1.0))\n",
    "    w_out = tf.Variable(tf.random_normal([hidden_dim, output_dim]))\n",
    "    b_out = tf.Variable(tf.random_normal([output_dim]))\n",
    "    \n",
    "    reshaped_inputs = [tf.nn.relu(tf.matmul(i, w_in) + b_in) for i in enc_inp]\n",
    "    \n",
    "    dec_outputs, dec_memory = tf.nn.seq2seq.basic_rnn_seq2seq(\n",
    "        enc_inp,\n",
    "        dec_inp,\n",
    "        cell\n",
    "    )\n",
    "    \n",
    "    output_scale_factor = tf.Variable(1.0, name=\"Output_ScaleFactor\")\n",
    "    reshaped_outputs = [output_scale_factor * (tf.matmul(i, w_out) + b_out) for i in dec_outputs]\n"
   ]
  },
  {
   "cell_type": "markdown",
   "metadata": {
    "colab_type": "text",
    "id": "XjuczTfc-gdU"
   },
   "source": [
    "Описание функции потерь"
   ]
  },
  {
   "cell_type": "code",
   "execution_count": 11,
   "metadata": {
    "colab": {},
    "colab_type": "code",
    "id": "J3AaHF_UtlIJ"
   },
   "outputs": [],
   "source": [
    "with tf.variable_scope('Loss'):\n",
    "    # L2 loss\n",
    "    output_loss = 0\n",
    "    for _y, _Y in zip(reshaped_outputs, expected_sparse_output):\n",
    "        output_loss += tf.reduce_mean(tf.nn.l2_loss(_y - _Y))\n",
    "\n",
    "    # слагаемое, отвечающее за L2 регуляризацию\n",
    "    reg_loss = 0\n",
    "    for tf_var in tf.trainable_variables():\n",
    "        if not (\"Bias\" in tf_var.name or \"Output_\" in tf_var.name):\n",
    "            reg_loss += tf.reduce_mean(tf.nn.l2_loss(tf_var))\n",
    "\n",
    "    loss = output_loss  + lambda_l2_reg * reg_loss\n",
    "    #tf.summary.scalar('loss', loss)"
   ]
  },
  {
   "cell_type": "markdown",
   "metadata": {
    "colab_type": "text",
    "id": "8sJl7wBn-c0p"
   },
   "source": [
    "Описание оптимизатора"
   ]
  },
  {
   "cell_type": "code",
   "execution_count": 12,
   "metadata": {
    "colab": {},
    "colab_type": "code",
    "id": "4YHUAzjE-Z_c"
   },
   "outputs": [
    {
     "name": "stdout",
     "output_type": "stream",
     "text": [
      "WARNING:tensorflow:From //anaconda3/lib/python3.7/site-packages/tensorflow_core/python/training/rmsprop.py:119: calling Ones.__init__ (from tensorflow.python.ops.init_ops) with dtype is deprecated and will be removed in a future version.\n",
      "Instructions for updating:\n",
      "Call initializer instance with the dtype argument instead of passing it to the constructor\n"
     ]
    }
   ],
   "source": [
    "with tf.variable_scope('Optimizer'):\n",
    "    optimizer = tf.train.RMSPropOptimizer(learning_rate, decay=lr_decay, momentum=momentum)\n",
    "    # optimizer = tf.train.GradientDescentOptimizer(learning_rate=learning_rate)\n",
    "    train_op = optimizer.minimize(loss)"
   ]
  },
  {
   "cell_type": "markdown",
   "metadata": {
    "colab_type": "text",
    "id": "bK7_OiWt-l1G"
   },
   "source": [
    "Обучение и валидация НС"
   ]
  },
  {
   "cell_type": "code",
   "execution_count": 13,
   "metadata": {
    "colab": {},
    "colab_type": "code",
    "id": "vbUel1DmtlIU"
   },
   "outputs": [],
   "source": [
    "# Шаг обучения, который оптимизирует веса в соответствии с переданным минипакетом-примеров\n",
    "def train_batch(batch_size):\n",
    "    X, Y = generate_x_y_data_v1(isTrain=True , batch_size=batch_size)\n",
    "    feed_dict = {enc_inp[t]: X[t] for t in range(len(enc_inp))} \n",
    "    feed_dict.update({expected_sparse_output[t]: Y[t] for t in range(len(expected_sparse_output))}) \n",
    "    #  запускаем сессию. При этом рассчитываются тензоры, указанные в первом параметре, \n",
    "    # а значения для них берутся из второго параметра\n",
    "    _, loss_t = sess.run([train_op , loss], feed_dict)\n",
    "    \n",
    "    return loss_t"
   ]
  },
  {
   "cell_type": "code",
   "execution_count": 14,
   "metadata": {
    "colab": {},
    "colab_type": "code",
    "id": "yGWVM4ef_FO8"
   },
   "outputs": [],
   "source": [
    "def test_batch(batch_size): \n",
    "    X, Y = generate_x_y_data_v1(isTrain=False, batch_size=batch_size)\n",
    "    feed_dict = {enc_inp[t]: X[t] for t in range(len(enc_inp))}\n",
    "    feed_dict.update({expected_sparse_output[t]: Y[t] for t in range(len(expected_sparse_output))}) \n",
    "    loss_t = sess.run([loss], feed_dict)\n",
    "    return loss_t[0]"
   ]
  },
  {
   "cell_type": "code",
   "execution_count": 15,
   "metadata": {
    "colab": {
     "base_uri": "https://localhost:8080/",
     "height": 619
    },
    "colab_type": "code",
    "id": "tUm63wQFtlId",
    "outputId": "3160b4f4-ef3d-47c4-fb13-a0f51cf0b410"
   },
   "outputs": [
    {
     "name": "stdout",
     "output_type": "stream",
     "text": [
      "Step 0/5000, \t train loss: 273.14508056640625, \tTEST loss: 132.74520874023438\n",
      "Step 500/5000, \t train loss: 49.54526901245117, \tTEST loss: 34.784305572509766\n",
      "Step 1000/5000, \t train loss: 32.42887878417969, \tTEST loss: 32.82186508178711\n",
      "Step 1500/5000, \t train loss: 27.19407081604004, \tTEST loss: 19.92682456970215\n",
      "Step 2000/5000, \t train loss: 24.73003387451172, \tTEST loss: 26.740875244140625\n",
      "Step 2500/5000, \t train loss: 12.394916534423828, \tTEST loss: 15.98812484741211\n",
      "Step 3000/5000, \t train loss: 18.093183517456055, \tTEST loss: 21.426902770996094\n",
      "Step 3500/5000, \t train loss: 31.278148651123047, \tTEST loss: 26.29898452758789\n",
      "Step 4000/5000, \t train loss: 22.02228355407715, \tTEST loss: 21.965702056884766\n",
      "Step 4500/5000, \t train loss: 19.663114547729492, \tTEST loss: 23.112991333007812\n",
      "Step 5000/5000, \t train loss: 20.18606948852539, \tTEST loss: 10.730301856994629\n",
      "Fin. train loss: 20.18606948852539, \tTEST loss: 10.730301856994629\n"
     ]
    }
   ],
   "source": [
    "train_losses = []\n",
    "test_losses = []\n",
    "sess.run(tf.global_variables_initializer())\n",
    "\n",
    "#nb_iters - количество шагов для обучения. После каждых 10 шагов проверяется ошибка на тестовой выборке\n",
    "\n",
    "\n",
    "for t in range(nb_iters+1):\n",
    "    train_loss = train_batch(batch_size)\n",
    "    train_losses.append(train_loss)\n",
    "\n",
    "    if t % 500 == 0:\n",
    "        test_loss = test_batch(batch_size)\n",
    "        test_losses.append(test_loss)\n",
    "        print(\"Step {}/{}, \\t train loss: {}, \\tTEST loss: {}\".format(t, nb_iters , train_loss , test_loss))\n",
    "\n",
    "print(\"Fin. train loss: {}, \\tTEST loss: {}\".format(train_loss , test_loss))\n"
   ]
  },
  {
   "cell_type": "markdown",
   "metadata": {
    "colab_type": "text",
    "id": "O0aRQ2Gk-rIK"
   },
   "source": [
    "Визуализация процесса обучения"
   ]
  },
  {
   "cell_type": "code",
   "execution_count": 16,
   "metadata": {
    "colab": {
     "base_uri": "https://localhost:8080/",
     "height": 370
    },
    "colab_type": "code",
    "id": "rYBCUkY5tlIk",
    "outputId": "a89a8aef-84b1-48c5-c7e6-bed80f220880"
   },
   "outputs": [
    {
     "data": {
      "image/png": "[encoded data removed]",
      "text/plain": [
       "<Figure size 864x432 with 1 Axes>"
      ]
     },
     "metadata": {
      "needs_background": "light"
     },
     "output_type": "display_data"
    }
   ],
   "source": [
    "plt.figure(figsize=(12, 6))\n",
    "plt.plot( \n",
    "    np.array(range(0, len(test_losses)))/float(len(test_losses)-1)*(len(train_losses)-1), \n",
    "    np.log(test_losses), \n",
    "    label=\"Test loss\" \n",
    ")\n",
    "plt.plot( \n",
    "    np.log(train_losses), \n",
    "    label=\"Train loss\" \n",
    ")\n",
    "plt.title(\"Training errors over time (on a logarithmic scale)\") \n",
    "plt.xlabel('Iteration')\n",
    "plt.ylabel('log(Loss)') \n",
    "plt.legend(loc='best') \n",
    "plt.show()"
   ]
  },
  {
   "cell_type": "markdown",
   "metadata": {
    "colab_type": "text",
    "id": "emIX1q8j-shw"
   },
   "source": [
    "Визуализация результата"
   ]
  },
  {
   "cell_type": "code",
   "execution_count": 18,
   "metadata": {
    "colab": {
     "base_uri": "https://localhost:8080/",
     "height": 226
    },
    "colab_type": "code",
    "id": "Xz6OFQ5_tlIz",
    "outputId": "8421a9b9-a7ca-4742-e575-a345942de1ba"
   },
   "outputs": [
    {
     "name": "stdout",
     "output_type": "stream",
     "text": [
      "Let 's visualize 1 predictions with our signals :\n"
     ]
    },
    {
     "data": {
      "image/png": "[encoded data removed]",
      "text/plain": [
       "<Figure size 864x216 with 1 Axes>"
      ]
     },
     "metadata": {
      "needs_background": "light"
     },
     "output_type": "display_data"
    }
   ],
   "source": [
    "nb_predictions = 1\n",
    "print(\"Let 's visualize {} predictions with our signals :\".format(nb_predictions))\n",
    "\n",
    "X, Y = generate_x_y_data_v1(isTrain=False, batch_size = nb_predictions)\n",
    "feed_dict = { enc_inp [t]: X[t] for t in range(seq_length)}\n",
    "outputs = np.array(sess.run([reshaped_outputs], feed_dict)[0])\n",
    "\n",
    "# выводим предсказания по каждому пакету\n",
    "for j in range(nb_predictions):\n",
    "    plt.figure(figsize=(12, 3))\n",
    "\n",
    "    for k in range(output_dim):\n",
    "        past = X[:,j,k]\n",
    "        expected = Y[:,j,k]\n",
    "        pred = outputs [:,j,k]\n",
    "\n",
    "    label1 = \"Seen (past) values\" \n",
    "    label2 = \"True future values\"\n",
    "    label3 = \"Predictions\"\n",
    "\n",
    "    plt.plot(range(len(past)), past, \"o--b\", label = label1)\n",
    "    plt.plot(range(len(past), len(expected) + len(past)), expected, \"x--b\", label = label2)\n",
    "    plt.plot(range(len(past), len(pred) + len(past)), pred, \"o--y\", label = label3 )\n",
    "\n",
    "    plt.legend(loc ='best')\n",
    "    plt.title(\"Predictions v.s. true values\")\n",
    "    plt.show()"
   ]
  },
  {
   "cell_type": "code",
   "execution_count": null,
   "metadata": {},
   "outputs": [],
   "source": []
  }
 ],
 "metadata": {
  "colab": {
   "collapsed_sections": [],
   "name": "6lab_part2.ipynb",
   "provenance": []
  },
  "kernelspec": {
   "display_name": "Python 3",
   "language": "python",
   "name": "python3"
  },
  "language_info": {
   "codemirror_mode": {
    "name": "ipython",
    "version": 3
   },
   "file_extension": ".py",
   "mimetype": "text/x-python",
   "name": "python",
   "nbconvert_exporter": "python",
   "pygments_lexer": "ipython3",
   "version": "3.7.3"
  }
 },
 "nbformat": 4,
 "nbformat_minor": 1
}
