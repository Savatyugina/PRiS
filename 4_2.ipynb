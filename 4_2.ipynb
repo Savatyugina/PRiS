{
 "cells": [
  {
   "cell_type": "code",
   "execution_count": 11,
   "metadata": {},
   "outputs": [],
   "source": [
    "import tensorflow as tf \n",
    "from tensorflow.python.keras.datasets import cifar10  \n",
    "import numpy as np \n",
    "import time\n",
    "from keras.utils import np_utils\n",
    "from tensorflow.python import debug as tf_debug\n",
    "import os\n",
    "\n",
    "import warnings\n",
    "warnings.filterwarnings('ignore')"
   ]
  },
  {
   "cell_type": "code",
   "execution_count": 12,
   "metadata": {},
   "outputs": [],
   "source": [
    "tf.reset_default_graph() \n",
    "\n",
    "(X_train, y_train), (X_test, y_test) = cifar10.load_data()\n",
    "num_classes = np.unique(y_train).shape[0]\n",
    "y_test = y_test.reshape(y_test.shape[0])\n",
    "x_test = X_test.astype('float32') / 255\n",
    "x_test  = np.reshape(x_test, [-1, 3072])\n",
    "\n",
    "y_test = np_utils.to_categorical(y_test, num_classes)"
   ]
  },
  {
   "cell_type": "code",
   "execution_count": 13,
   "metadata": {},
   "outputs": [],
   "source": [
    "MODEL_DIR = 'dir_lab4/model'\n",
    "FILE_META_DIR = ''"
   ]
  },
  {
   "cell_type": "code",
   "execution_count": 14,
   "metadata": {},
   "outputs": [
    {
     "name": "stdout",
     "output_type": "stream",
     "text": [
      "INFO:tensorflow:Restoring parameters from lab4\n",
      "Проверяемая точность (тестируемая): 0.6743000149726868\n"
     ]
    }
   ],
   "source": [
    "with tf.Session() as sess:    \n",
    "    sess.run(tf.global_variables_initializer())\n",
    "    # ЗАГРУЖАЕМ СОХРАНЁННУЮ МОДЕЛЬ ГРАФА\n",
    "    saver = tf.train.import_meta_graph(os.path.join( \n",
    "        MODEL_DIR,\"model_ckpt.meta\"))\n",
    "    saver.restore(sess, os.path.join(FILE_META_DIR,\"lab4\"))\n",
    "    # получаем сохраненные данные из коллекции\n",
    "    x = tf.get_collection('train_var')[0] \n",
    "    y_ = tf.get_collection('train_var')[1] \n",
    "    accuracy = tf.get_collection('train_var')[2]\n",
    "    keep_prob = tf.get_collection('train_var')[3]\n",
    "    \n",
    "    X = x_test.reshape(10, 1000, 3072) \n",
    "    Y = y_test.reshape(10, 1000, 10)\n",
    "    # тестируем импортированную сохранённую модель на точность\n",
    "    test_accuracy = np.mean([sess.run(accuracy, feed_dict={x:X[i], y_:Y[i], keep_prob:1.0}) for i in range(10)])\n",
    "    print(\"Проверяемая точность (тестируемая): {}\".format(test_accuracy))"
   ]
  },
  {
   "cell_type": "markdown",
   "metadata": {},
   "source": [
    "### Tensorboard\n",
    "пакет для визуализации обучения\n",
    "***\n",
    "Запуск в консоли:  \n",
    "`tensorboard --logdir=dir_lab4/logs/summaries`"
   ]
  },
  {
   "cell_type": "code",
   "execution_count": null,
   "metadata": {},
   "outputs": [],
   "source": []
  }
 ],
 "metadata": {
  "kernelspec": {
   "display_name": "Python 3",
   "language": "python",
   "name": "python3"
  },
  "language_info": {
   "codemirror_mode": {
    "name": "ipython",
    "version": 3
   },
   "file_extension": ".py",
   "mimetype": "text/x-python",
   "name": "python",
   "nbconvert_exporter": "python",
   "pygments_lexer": "ipython3",
   "version": "3.6.3"
  }
 },
 "nbformat": 4,
 "nbformat_minor": 4
}
