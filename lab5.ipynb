{
 "cells": [
  {
   "cell_type": "code",
   "execution_count": 1,
   "metadata": {},
   "outputs": [],
   "source": [
    "import numpy as np\n",
    "import random\n",
    "import math\n",
    "import tensorflow as tf\n",
    "import matplotlib.pyplot as plt"
   ]
  },
  {
   "cell_type": "markdown",
   "metadata": {},
   "source": [
    "Генерация данных"
   ]
  },
  {
   "cell_type": "code",
   "execution_count": 2,
   "metadata": {},
   "outputs": [],
   "source": [
    "def generate_x_y_data_v1(isTrain, batch_size):\n",
    "    # seq_length - длина предсказываемого временного ряда\n",
    "    seq_length = 10\n",
    "    \n",
    "    batch_x = []\n",
    "    batch_y = []\n",
    "    for _ in range(batch_size): \n",
    "        # Одна итерация цикла генерирует 1 пакет данных \n",
    "        rand = random.random() * 2 * math.pi\n",
    "        \n",
    "        # Генерируем набор данных по заданному закону\n",
    "        #np.linspace генерирует набор точек, равномерно распредленных по заданному интервалу \n",
    "        # (границы интервала смещены на случайную величину)\n",
    "        sig1 = np.sin(np.linspace(0.0 * math.pi + rand, 3.0 * math.pi + rand,\n",
    "                                  seq_length * 2))\n",
    "        sig2 = np.cos(np.linspace(0.0 * math.pi + rand, 3.0 * math.pi + rand,\n",
    "                                  seq_length * 2))\n",
    "        \n",
    "        # первую половину сигналов берем на обучающую выборку,\n",
    "        # вторую - на контрольную\n",
    "        x1 = sig1[:seq_length]\n",
    "        y1 = sig1[seq_length:]\n",
    "        x2 = sig2[:seq_length]\n",
    "        y2 = sig2[seq_length:]\n",
    "        \n",
    "        x_ = np.array([x1, x2])\n",
    "        y_ = np.array([y1, y2])\n",
    "        x_, y_ = x_.T, y_.T\n",
    "    \n",
    "        batch_x.append(x_)\n",
    "        batch_y.append(y_)\n",
    "    \n",
    "    batch_x = np.array(batch_x)\n",
    "    batch_y = np.array(batch_y) \n",
    "    # транспонируем, чтобы привести к нужной размерности\n",
    "    batch_x = np.array(batch_x).transpose((1, 0, 2))\n",
    "    batch_y = np.array(batch_y).transpose((1, 0, 2)) \n",
    "    \n",
    "    return batch_x , batch_y"
   ]
  },
  {
   "cell_type": "code",
   "execution_count": 3,
   "metadata": {},
   "outputs": [],
   "source": [
    "# Данные имеют размерность (seq_length , batch_size , output_dim) \n",
    "sample_x, sample_y = generate_x_y_data_v1(isTrain=True, batch_size=3)"
   ]
  },
  {
   "cell_type": "markdown",
   "metadata": {},
   "source": [
    "Определение параметров нейросети"
   ]
  },
  {
   "cell_type": "code",
   "execution_count": 4,
   "metadata": {},
   "outputs": [],
   "source": [
    "# Длина последовательности (в данных примерах одинаковая для обучающих и тестовых данных)\n",
    "seq_length = sample_x.shape[0] \n",
    "\n",
    "# Размер пакета количество(тестовых примеров), по которому усредняется градиент\n",
    "batch_size = 5\n",
    "\n",
    "# Размерность выходных данных \n",
    "output_dim = input_dim = sample_x.shape[-1]\n",
    "\n",
    "# Количество скрытых нейронов в каждой ячейке\n",
    "hidden_dim = 12\n",
    "\n",
    "# Количество ячеек рекуррентной сети (в глубину)\n",
    "layers_stacked_count = 2"
   ]
  },
  {
   "cell_type": "code",
   "execution_count": 5,
   "metadata": {},
   "outputs": [
    {
     "data": {
      "text/plain": [
       "array([[[-0.36261013,  0.93194093],\n",
       "        [ 0.99742976, -0.07165099],\n",
       "        [ 0.63552499,  0.77208029]],\n",
       "\n",
       "       [[ 0.12464877,  0.99220093],\n",
       "        [ 0.8431112 , -0.53773926],\n",
       "        [ 0.92639715,  0.37654789]],\n",
       "\n",
       "       [[ 0.58186076,  0.81328842],\n",
       "        [ 0.48555857, -0.87420414],\n",
       "        [ 0.99395897, -0.10975233]],\n",
       "\n",
       "       [[ 0.89881377,  0.4383307 ],\n",
       "        [ 0.01096083, -0.99993993],\n",
       "        [ 0.82192449, -0.56959647]],\n",
       "\n",
       "       [[ 0.99910547, -0.04228772],\n",
       "        [-0.46627904, -0.8846377 ],\n",
       "        [ 0.45176306, -0.89213796]],\n",
       "\n",
       "       [[ 0.85856031, -0.51271259],\n",
       "        [-0.83112118, -0.55609134],\n",
       "        [-0.02729699, -0.99962737]],\n",
       "\n",
       "       [[ 0.51105703, -0.8595468 ],\n",
       "        [-0.99561949, -0.09349778],\n",
       "        [-0.49977702, -0.8661541 ]],\n",
       "\n",
       "       [[ 0.04036219, -0.99918511],\n",
       "        [-0.92012123,  0.39163366],\n",
       "        [-0.85178456, -0.52389223]],\n",
       "\n",
       "       [[-0.44006207, -0.89796736],\n",
       "        [-0.62282545,  0.78236082],\n",
       "        [-0.9984673 , -0.05534482]],\n",
       "\n",
       "       [[-0.81440826, -0.58029233],\n",
       "        [-0.17539604,  0.98449796],\n",
       "        [-0.90446701,  0.42654359]]])"
      ]
     },
     "execution_count": 5,
     "metadata": {},
     "output_type": "execute_result"
    }
   ],
   "source": [
    "sample_x"
   ]
  },
  {
   "cell_type": "code",
   "execution_count": 7,
   "metadata": {},
   "outputs": [],
   "source": [
    "# Параметры оптимизатора \n",
    "# Скорость обучения маленькая (скорость обучения позволяет алгоритму не расходиться во время обучения)\n",
    "learning_rate = 0.007\n",
    "\n",
    "# Количество итераций по обучающей выборке \n",
    "nb_iters = 150\n",
    "\n",
    "# Дополнительные параметры алгоритма оптимизации\n",
    "lr_decay = 0.92\n",
    "momentum = 0.5\n",
    "\n",
    "# Коэффициент L2 регуляризации\n",
    "lambda_l2_reg = 0.003"
   ]
  },
  {
   "cell_type": "code",
   "execution_count": 8,
   "metadata": {},
   "outputs": [
    {
     "name": "stdout",
     "output_type": "stream",
     "text": [
      "WARNING:tensorflow:\n",
      "The TensorFlow contrib module will not be included in TensorFlow 2.0.\n",
      "For more information, please see:\n",
      "  * https://github.com/tensorflow/community/blob/master/rfcs/20180907-contrib-sunset.md\n",
      "  * https://github.com/tensorflow/addons\n",
      "  * https://github.com/tensorflow/io (for I/O related ops)\n",
      "If you depend on functionality not listed there, please file an issue.\n",
      "\n"
     ]
    }
   ],
   "source": [
    "tf.nn.seq2seq = tf.contrib.legacy_seq2seq\n",
    "tf.nn.rnn_cell = tf.contrib.rnn\n",
    "tf.nn.rnn_cell.GRUCell = tf.contrib.rnn.GRUCell"
   ]
  },
  {
   "cell_type": "code",
   "execution_count": 9,
   "metadata": {},
   "outputs": [],
   "source": [
    "tf.reset_default_graph()\n",
    "# интерактивная сессия\n",
    "sess = tf.InteractiveSession()"
   ]
  },
  {
   "cell_type": "markdown",
   "metadata": {},
   "source": [
    "Описание графа вычислений"
   ]
  },
  {
   "cell_type": "code",
   "execution_count": 10,
   "metadata": {},
   "outputs": [
    {
     "name": "stdout",
     "output_type": "stream",
     "text": [
      "WARNING:tensorflow:From <ipython-input-10-9fe376a83135>:21: GRUCell.__init__ (from tensorflow.python.ops.rnn_cell_impl) is deprecated and will be removed in a future version.\n",
      "Instructions for updating:\n",
      "This class is equivalent as tf.keras.layers.GRUCell, and will be replaced by that in Tensorflow 2.0.\n",
      "WARNING:tensorflow:From <ipython-input-10-9fe376a83135>:23: MultiRNNCell.__init__ (from tensorflow.python.ops.rnn_cell_impl) is deprecated and will be removed in a future version.\n",
      "Instructions for updating:\n",
      "This class is equivalent as tf.keras.layers.StackedRNNCells, and will be replaced by that in Tensorflow 2.0.\n",
      "WARNING:tensorflow:From //anaconda3/lib/python3.7/site-packages/tensorflow_core/contrib/legacy_seq2seq/python/ops/seq2seq.py:186: static_rnn (from tensorflow.python.ops.rnn) is deprecated and will be removed in a future version.\n",
      "Instructions for updating:\n",
      "Please use `keras.layers.RNN(cell, unroll=True)`, which is equivalent to this API\n",
      "WARNING:tensorflow:From //anaconda3/lib/python3.7/site-packages/tensorflow_core/python/ops/rnn_cell_impl.py:559: Layer.add_variable (from tensorflow.python.keras.engine.base_layer) is deprecated and will be removed in a future version.\n",
      "Instructions for updating:\n",
      "Please use `layer.add_weight` method instead.\n",
      "WARNING:tensorflow:From //anaconda3/lib/python3.7/site-packages/tensorflow_core/python/ops/rnn_cell_impl.py:565: calling Constant.__init__ (from tensorflow.python.ops.init_ops) with dtype is deprecated and will be removed in a future version.\n",
      "Instructions for updating:\n",
      "Call initializer instance with the dtype argument instead of passing it to the constructor\n",
      "WARNING:tensorflow:From //anaconda3/lib/python3.7/site-packages/tensorflow_core/python/ops/rnn_cell_impl.py:575: calling Zeros.__init__ (from tensorflow.python.ops.init_ops) with dtype is deprecated and will be removed in a future version.\n",
      "Instructions for updating:\n",
      "Call initializer instance with the dtype argument instead of passing it to the constructor\n"
     ]
    }
   ],
   "source": [
    "with tf.variable_scope('Seq2seq'):\n",
    "    enc_inp = [\n",
    "        tf.placeholder(tf.float32, shape=(None, input_dim),\n",
    "                       name=\"inp_{}\".format(t)) for t in range(seq_length)\n",
    "    ]\n",
    "    #ожидаемые входы для декодировщика\n",
    "    expected_sparse_output = [\n",
    "        tf.placeholder(tf.float32, shape=(None, output_dim),\n",
    "                       name=\"expected_sparse_output_\".format(t))\n",
    "            for t in range(seq_length)\n",
    "    ]\n",
    "    \n",
    "    dec_inp = [tf.zeros_like(enc_inp[0],\n",
    "                             dtype=np.float32, name=\"GO\")] + enc_inp[:-1]\n",
    "    #описание модели\n",
    "    cells = []\n",
    "    #формирование GRU ячеек\n",
    "    #layers_stacked_count - количество GRU ячеек в модели\n",
    "    for i in range(layers_stacked_count):\n",
    "        with tf.variable_scope('RNN_{}'.format(i)):\n",
    "            cells.append(tf.nn.rnn_cell.GRUCell(hidden_dim))\n",
    "            \n",
    "    cell = tf.nn.rnn_cell.MultiRNNCell(cells)\n",
    "    #кодировщик, input_dim , hidden_dim - размерность входных и внутренних данных\n",
    "    w_in = tf.Variable(tf.random_normal([input_dim , hidden_dim]))\n",
    "    b_in = tf.Variable(tf.random_normal([hidden_dim], mean=1.0))\n",
    "    #декодировщик\n",
    "    w_out = tf.Variable(tf.random_normal([hidden_dim , output_dim]))\n",
    "    b_out = tf.Variable(tf.random_normal([output_dim]))\n",
    "\n",
    "    reshaped_inputs = [tf.nn.relu(tf.matmul(i, w_in) + b_in) for i in enc_inp]\n",
    "    #определение модели\n",
    "    dec_outputs, dec_memory = tf.nn.seq2seq.basic_rnn_seq2seq(\n",
    "        enc_inp,\n",
    "        dec_inp,\n",
    "        cell\n",
    "    )\n",
    "    \n",
    "    output_scale_factor = tf.Variable(1.0, name=\"Output_ScaleFactor\")\n",
    "    reshaped_outputs = [output_scale_factor * (tf.matmul(i, w_out) + b_out) for i in dec_outputs]\n"
   ]
  },
  {
   "cell_type": "markdown",
   "metadata": {},
   "source": [
    "Описание функции потерь"
   ]
  },
  {
   "cell_type": "code",
   "execution_count": 11,
   "metadata": {},
   "outputs": [],
   "source": [
    "with tf.variable_scope('Loss'):\n",
    "    # используется L2 loss\n",
    "    output_loss = 0\n",
    "    for _y, _Y in zip(reshaped_outputs, expected_sparse_output):\n",
    "        output_loss += tf.reduce_mean(tf.nn.l2_loss(_y - _Y))\n",
    "\n",
    "    # слагаемое, отвечающее за L2 регуляризацию\n",
    "    reg_loss = 0\n",
    "    for tf_var in tf.trainable_variables():\n",
    "        if not (\"Bias\" in tf_var.name or \"Output_\" in tf_var.name):\n",
    "            reg_loss += tf.reduce_mean(tf.nn.l2_loss(tf_var))\n",
    "\n",
    "    loss = output_loss  + lambda_l2_reg * reg_loss\n"
   ]
  },
  {
   "cell_type": "markdown",
   "metadata": {},
   "source": [
    "Описание оптимизатора"
   ]
  },
  {
   "cell_type": "code",
   "execution_count": 12,
   "metadata": {},
   "outputs": [
    {
     "name": "stdout",
     "output_type": "stream",
     "text": [
      "WARNING:tensorflow:From //anaconda3/lib/python3.7/site-packages/tensorflow_core/python/training/rmsprop.py:119: calling Ones.__init__ (from tensorflow.python.ops.init_ops) with dtype is deprecated and will be removed in a future version.\n",
      "Instructions for updating:\n",
      "Call initializer instance with the dtype argument instead of passing it to the constructor\n"
     ]
    }
   ],
   "source": [
    "#используется RMSProp\n",
    "with tf.variable_scope('Optimizer'):\n",
    "    optimizer = tf.train.RMSPropOptimizer(learning_rate, decay=lr_decay, momentum=momentum)\n",
    "    train_op = optimizer.minimize(loss)"
   ]
  },
  {
   "cell_type": "markdown",
   "metadata": {},
   "source": [
    "Обучение и валидация НС"
   ]
  },
  {
   "cell_type": "code",
   "execution_count": 13,
   "metadata": {},
   "outputs": [],
   "source": [
    "# Шаг обучения, который оптимизирует веса в соответствии с переданным минипакетом-примеров\n",
    "def train_batch(batch_size):\n",
    "    X, Y = generate_x_y_data_v1(isTrain=True , batch_size=batch_size)\n",
    "    feed_dict = {enc_inp[t]: X[t] for t in range(len(enc_inp))} \n",
    "    feed_dict.update({expected_sparse_output[t]: Y[t] for t in range(len(expected_sparse_output))}) \n",
    "    #  запускаем сессию. При этом рассчитываются тензоры, указанные в первом параметре, \n",
    "    # а значения для них берутся из второго параметра\n",
    "    _, loss_t = sess.run([train_op , loss], feed_dict)\n",
    "    \n",
    "    return loss_t"
   ]
  },
  {
   "cell_type": "code",
   "execution_count": 14,
   "metadata": {},
   "outputs": [],
   "source": [
    "#тестовый прогон\n",
    "def test_batch(batch_size): \n",
    "    X, Y = generate_x_y_data_v1(isTrain=False, batch_size=batch_size)\n",
    "    feed_dict = {enc_inp[t]: X[t] for t in range(len(enc_inp))}\n",
    "    feed_dict.update({expected_sparse_output[t]: \n",
    "                      Y[t] for t in range(len(expected_sparse_output))}) \n",
    "    loss_t = sess.run([loss], feed_dict)\n",
    "    return loss_t[0]\n",
    "   "
   ]
  },
  {
   "cell_type": "code",
   "execution_count": 15,
   "metadata": {},
   "outputs": [
    {
     "name": "stdout",
     "output_type": "stream",
     "text": [
      "Step 0/150, \t train loss: 26.808124542236328, \t TEST loss: 21.379825592041016\n",
      "Step 10/150, \t train loss: 3.6146395206451416, \t TEST loss: 4.041858673095703\n",
      "Step 20/150, \t train loss: 0.7621623277664185, \t TEST loss: 0.8466287851333618\n",
      "Step 30/150, \t train loss: 0.6079262495040894, \t TEST loss: 0.6721744537353516\n",
      "Step 40/150, \t train loss: 1.0062415599822998, \t TEST loss: 0.6992576718330383\n",
      "Step 50/150, \t train loss: 0.5933796167373657, \t TEST loss: 0.7633225321769714\n",
      "Step 60/150, \t train loss: 0.6269983649253845, \t TEST loss: 0.5288141965866089\n",
      "Step 70/150, \t train loss: 1.0649940967559814, \t TEST loss: 1.0154097080230713\n",
      "Step 80/150, \t train loss: 0.5237476825714111, \t TEST loss: 0.576218843460083\n",
      "Step 90/150, \t train loss: 0.6290964484214783, \t TEST loss: 0.6060156226158142\n",
      "Step 100/150, \t train loss: 0.46883925795555115, \t TEST loss: 0.46981123089790344\n",
      "Step 110/150, \t train loss: 1.6622614860534668, \t TEST loss: 1.1195199489593506\n",
      "Step 120/150, \t train loss: 0.4524778723716736, \t TEST loss: 0.46551528573036194\n",
      "Step 130/150, \t train loss: 0.41272401809692383, \t TEST loss: 0.42073267698287964\n",
      "Step 140/150, \t train loss: 0.62538743019104, \t TEST loss: 0.5777112245559692\n",
      "Step 150/150, \t train loss: 0.42087802290916443, \t TEST loss: 0.48875880241394043\n",
      "Fin. train loss: 0.42087802290916443, \tTEST loss: 0.48875880241394043\n"
     ]
    }
   ],
   "source": [
    "train_losses = []\n",
    "test_losses = []\n",
    "\n",
    "sess.run(tf.global_variables_initializer())\n",
    "# nb_iters - количество шагов для обучения.\n",
    "# После каждых 10 шагов проверяется ошибка на тестовой выборке\n",
    "\n",
    "for t in range(nb_iters+1):\n",
    "    train_loss = train_batch(batch_size)\n",
    "    train_losses.append(train_loss)\n",
    "\n",
    "    if t % 10 == 0:\n",
    "        test_loss = test_batch(batch_size)\n",
    "        test_losses.append(test_loss)\n",
    "        print(\"Step {}/{}, \\t train loss: {}, \\t TEST loss: {}\".format(t,\n",
    "                                                                   nb_iters,\n",
    "                                                                   train_loss,\n",
    "                                                                   test_loss))\n",
    "\n",
    "print(\"Fin. train loss: {}, \\tTEST loss: {}\".format(train_loss, test_loss))"
   ]
  },
  {
   "cell_type": "markdown",
   "metadata": {},
   "source": [
    "Визуализация процесса обучения"
   ]
  },
  {
   "cell_type": "code",
   "execution_count": 16,
   "metadata": {},
   "outputs": [
    {
     "data": {
      "image/png": "[encoded data removed]",
      "text/plain": [
       "<Figure size 864x432 with 1 Axes>"
      ]
     },
     "metadata": {
      "needs_background": "light"
     },
     "output_type": "display_data"
    }
   ],
   "source": [
    "#построение функции потерь\n",
    "plt.figure(figsize=(12, 6))\n",
    "plt.plot( \n",
    "        np.array(range(0, len(test_losses)))/float(len(test_losses)-1) * (len(train_losses)-1), \n",
    "        np.log(test_losses), \n",
    "        label=\"Test loss\" \n",
    ")\n",
    "plt.plot( \n",
    "        np.log(train_losses), \n",
    "        label=\"Train loss\" \n",
    ")\n",
    "plt.title(\"Training errors over time (on a logarithmic scale)\") \n",
    "plt.xlabel('Iteration')\n",
    "plt.ylabel('log(Loss)') \n",
    "plt.legend(loc='best') \n",
    "plt.show()"
   ]
  },
  {
   "cell_type": "markdown",
   "metadata": {},
   "source": [
    "Визуализация результата"
   ]
  },
  {
   "cell_type": "code",
   "execution_count": 17,
   "metadata": {},
   "outputs": [
    {
     "name": "stdout",
     "output_type": "stream",
     "text": [
      "Let 's visualize 1 predictions with our signals :\n"
     ]
    },
    {
     "data": {
      "image/png": "[encoded data removed]",
      "text/plain": [
       "<Figure size 864x216 with 1 Axes>"
      ]
     },
     "metadata": {
      "needs_background": "light"
     },
     "output_type": "display_data"
    }
   ],
   "source": [
    "nb_predictions = 1\n",
    "print(\"Let 's visualize {} predictions with our signals :\".format(nb_predictions))\n",
    "\n",
    "X, Y = generate_x_y_data_v1(isTrain=False, batch_size = nb_predictions)\n",
    "feed_dict = { enc_inp [t]: X[t] for t in range(seq_length)}\n",
    "outputs = np.array(sess.run([reshaped_outputs], feed_dict)[0])\n",
    "\n",
    "# выводим предсказания по каждому пакету\n",
    "for j in range(nb_predictions):\n",
    "    plt.figure(figsize=(12, 3))\n",
    "      \n",
    "    for k in range(output_dim):\n",
    "        past = X[:,j,k]\n",
    "        expected = Y[:,j,k]\n",
    "        pred = outputs [:,j,k]\n",
    "      \n",
    "    label1 = \"Seen (past) values\" \n",
    "    label2 = \"True future values\"\n",
    "    label3 = \"Predictions\"\n",
    "      \n",
    "    plt.plot(range(len(past)), past, \"o--b\", label = label1)\n",
    "    plt.plot(range(len(past), len(expected) + len(past)), expected, \"x--b\", label = label2)\n",
    "    plt.plot(range(len(past), len(pred) + len(past)), pred, \"o--y\", label = label3 )\n",
    "      \n",
    "    plt.legend(loc ='best')\n",
    "    plt.title(\"Predictions v.s. true values\")\n",
    "    plt.show()"
   ]
  },
  {
   "cell_type": "code",
   "execution_count": null,
   "metadata": {},
   "outputs": [],
   "source": []
  }
 ],
 "metadata": {
  "kernelspec": {
   "display_name": "Python 3",
   "language": "python",
   "name": "python3"
  },
  "language_info": {
   "codemirror_mode": {
    "name": "ipython",
    "version": 3
   },
   "file_extension": ".py",
   "mimetype": "text/x-python",
   "name": "python",
   "nbconvert_exporter": "python",
   "pygments_lexer": "ipython3",
   "version": "3.7.3"
  }
 },
 "nbformat": 4,
 "nbformat_minor": 5
}
