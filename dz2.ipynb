{
  "nbformat": 4,
  "nbformat_minor": 0,
  "metadata": {
    "colab": {
      "name": "dz2.ipynb",
      "provenance": []
    },
    "kernelspec": {
      "name": "python3",
      "display_name": "Python 3"
    },
    "language_info": {
      "name": "python"
    }
  },
  "cells": [
    {
      "cell_type": "code",
      "metadata": {
        "colab": {
          "base_uri": "https://localhost:8080/"
        },
        "id": "6iA7LAsi9yDq",
        "outputId": "ba9d0099-8f05-414e-cde8-27f38e203ed3"
      },
      "source": [
        "%tensorflow_version 2.5\n",
        "import tensorflow as tf\n",
        "from tensorflow.keras.preprocessing import image_dataset_from_directory\n",
        "import numpy as np\n",
        "import os"
      ],
      "execution_count": 42,
      "outputs": [
        {
          "output_type": "stream",
          "text": [
            "`%tensorflow_version` only switches the major version: 1.x or 2.x.\n",
            "You set: `2.5`. This will be interpreted as: `2.x`.\n",
            "\n",
            "\n",
            "TensorFlow is already loaded. Please restart the runtime to change versions.\n"
          ],
          "name": "stdout"
        }
      ]
    },
    {
      "cell_type": "code",
      "metadata": {
        "colab": {
          "base_uri": "https://localhost:8080/"
        },
        "id": "dQVgQFieL3r4",
        "outputId": "1e4a1a98-5c3e-4a2a-df1f-67a023f0b05d"
      },
      "source": [
        "import os\n",
        "\n",
        "image_width = 200\n",
        "image_height = 200\n",
        "batch_size = 128\n",
        "num_classes = 2\n",
        "train_data_path = '/content/drive/MyDrive/data/furniture_data/train'\n",
        "test_data_path = '/content/drive/MyDrive/data/furniture_data/test_normal'\n",
        "test_data_furniture_path = '/content/drive/MyDrive/data/furniture_data/test_furniture'\n",
        "print(len(os.listdir(train_data_path)))"
      ],
      "execution_count": 43,
      "outputs": [
        {
          "output_type": "stream",
          "text": [
            "2\n"
          ],
          "name": "stdout"
        }
      ]
    },
    {
      "cell_type": "code",
      "metadata": {
        "colab": {
          "base_uri": "https://localhost:8080/"
        },
        "id": "F4QM6k80O-y4",
        "outputId": "23ddac3d-6298-47f3-a0a5-53b803a8aa10"
      },
      "source": [
        "train_dataset = image_dataset_from_directory(train_data_path,\n",
        "                                    image_size=(image_width, image_height),\n",
        "                                    shuffle=True,\n",
        "                                    subset='training', validation_split=0.2,\n",
        "                                    seed=42, batch_size=batch_size)\n",
        "validation_dataset = image_dataset_from_directory(train_data_path,\n",
        "                                    image_size=(image_width, image_height),\n",
        "                                    shuffle=True,\n",
        "                                    subset='validation', validation_split=0.2,\n",
        "                                    seed=42, batch_size=batch_size)\n",
        "\n",
        "test_dataset = image_dataset_from_directory(test_data_path,\n",
        "                                    image_size=(image_width, image_height),\n",
        "                                    shuffle=True,\n",
        "                                    seed=42, batch_size=batch_size)\n",
        "\n",
        "test_furniture_dataset = image_dataset_from_directory(test_data_furniture_path,\n",
        "                                    image_size=(image_width, image_height),\n",
        "                                    shuffle=True,\n",
        "                                    seed=42, batch_size=batch_size)"
      ],
      "execution_count": 44,
      "outputs": [
        {
          "output_type": "stream",
          "text": [
            "Found 200 files belonging to 2 classes.\n",
            "Using 160 files for training.\n",
            "Found 200 files belonging to 2 classes.\n",
            "Using 40 files for validation.\n",
            "Found 800 files belonging to 2 classes.\n",
            "Found 800 files belonging to 2 classes.\n"
          ],
          "name": "stdout"
        }
      ]
    },
    {
      "cell_type": "code",
      "metadata": {
        "colab": {
          "base_uri": "https://localhost:8080/"
        },
        "id": "Lc-t5HEgPL-_",
        "outputId": "b01b9e77-63e5-4340-95c8-ba64e5065a07"
      },
      "source": [
        "# remove cache\n",
        "!rm *"
      ],
      "execution_count": 45,
      "outputs": [
        {
          "output_type": "stream",
          "text": [
            "rm: cannot remove 'drive': Is a directory\n",
            "rm: cannot remove 'sample_data': Is a directory\n"
          ],
          "name": "stdout"
        }
      ]
    },
    {
      "cell_type": "code",
      "metadata": {
        "colab": {
          "base_uri": "https://localhost:8080/"
        },
        "id": "kYxlWyFoPZ23",
        "outputId": "fbadd740-148f-4143-ea2f-bc52802378f3"
      },
      "source": [
        "AUTOTUNE = tf.data.experimental.AUTOTUNE\n",
        "print(AUTOTUNE)\n",
        "train_dataset = train_dataset.unbatch().cache('train_cache').batch(batch_size).shuffle(500).prefetch(buffer_size=AUTOTUNE)\n",
        "test_dataset = test_dataset.unbatch().cache('test_cache').batch(batch_size).shuffle(100).prefetch(buffer_size=AUTOTUNE)\n",
        "test_furniture_dataset = test_furniture_dataset.unbatch().cache('test_furniture_cache').batch(batch_size).shuffle(100).prefetch(buffer_size=AUTOTUNE)\n",
        "validation_dataset = validation_dataset.unbatch().cache('validation_cache').batch(batch_size).prefetch(buffer_size=AUTOTUNE)"
      ],
      "execution_count": 46,
      "outputs": [
        {
          "output_type": "stream",
          "text": [
            "-1\n"
          ],
          "name": "stdout"
        }
      ]
    },
    {
      "cell_type": "code",
      "metadata": {
        "id": "s6sG2G2mPgCO"
      },
      "source": [
        "from tensorflow.keras import Sequential, layers\n",
        "\n",
        "def get_model():\n",
        "  return Sequential([\n",
        "  layers.experimental.preprocessing.RandomFlip(\"horizontal_and_vertical\", \n",
        "                                                 input_shape=(image_height, \n",
        "                                                              image_width,\n",
        "                                                              3)),\n",
        "  layers.experimental.preprocessing.RandomRotation(.1),\n",
        "  layers.experimental.preprocessing.RandomZoom(0.05),\n",
        "  layers.experimental.preprocessing.Rescaling(1./255),\n",
        "  layers.Conv2D(64, 3, padding='same', activation='relu'),\n",
        "  layers.MaxPooling2D(),\n",
        "  layers.Dropout(0.2),\n",
        "  layers.Conv2D(64, 3, padding='same', activation='relu'),\n",
        "  layers.MaxPooling2D(),\n",
        "  layers.Dropout(0.2),\n",
        "    layers.Conv2D(32, 3, padding='same', activation='relu'),\n",
        "  layers.MaxPooling2D(),\n",
        "  layers.Dropout(0.3),\n",
        "  layers.Flatten(),\n",
        "  layers.Dense(32, activation='relu'),\n",
        "  layers.Dense(1, activation='sigmoid')\n",
        "])"
      ],
      "execution_count": 47,
      "outputs": []
    },
    {
      "cell_type": "code",
      "metadata": {
        "colab": {
          "base_uri": "https://localhost:8080/"
        },
        "id": "8OClzeNGPite",
        "outputId": "0cb1ace1-d435-4641-edca-6ab681f6f6fd"
      },
      "source": [
        "model = get_model()\n",
        "model.compile(optimizer=tf.keras.optimizers.RMSprop(),\n",
        "              loss=tf.keras.losses.binary_crossentropy,\n",
        "              metrics=['accuracy'])\n",
        "model.summary()"
      ],
      "execution_count": 48,
      "outputs": [
        {
          "output_type": "stream",
          "text": [
            "Model: \"sequential_3\"\n",
            "_________________________________________________________________\n",
            "Layer (type)                 Output Shape              Param #   \n",
            "=================================================================\n",
            "random_flip_2 (RandomFlip)   (None, 200, 200, 3)       0         \n",
            "_________________________________________________________________\n",
            "random_rotation_2 (RandomRot (None, 200, 200, 3)       0         \n",
            "_________________________________________________________________\n",
            "random_zoom_2 (RandomZoom)   (None, 200, 200, 3)       0         \n",
            "_________________________________________________________________\n",
            "rescaling_2 (Rescaling)      (None, 200, 200, 3)       0         \n",
            "_________________________________________________________________\n",
            "conv2d_6 (Conv2D)            (None, 200, 200, 64)      1792      \n",
            "_________________________________________________________________\n",
            "max_pooling2d_6 (MaxPooling2 (None, 100, 100, 64)      0         \n",
            "_________________________________________________________________\n",
            "dropout_6 (Dropout)          (None, 100, 100, 64)      0         \n",
            "_________________________________________________________________\n",
            "conv2d_7 (Conv2D)            (None, 100, 100, 64)      36928     \n",
            "_________________________________________________________________\n",
            "max_pooling2d_7 (MaxPooling2 (None, 50, 50, 64)        0         \n",
            "_________________________________________________________________\n",
            "dropout_7 (Dropout)          (None, 50, 50, 64)        0         \n",
            "_________________________________________________________________\n",
            "conv2d_8 (Conv2D)            (None, 50, 50, 32)        18464     \n",
            "_________________________________________________________________\n",
            "max_pooling2d_8 (MaxPooling2 (None, 25, 25, 32)        0         \n",
            "_________________________________________________________________\n",
            "dropout_8 (Dropout)          (None, 25, 25, 32)        0         \n",
            "_________________________________________________________________\n",
            "flatten_2 (Flatten)          (None, 20000)             0         \n",
            "_________________________________________________________________\n",
            "dense_4 (Dense)              (None, 32)                640032    \n",
            "_________________________________________________________________\n",
            "dense_5 (Dense)              (None, 1)                 33        \n",
            "=================================================================\n",
            "Total params: 697,249\n",
            "Trainable params: 697,249\n",
            "Non-trainable params: 0\n",
            "_________________________________________________________________\n"
          ],
          "name": "stdout"
        }
      ]
    },
    {
      "cell_type": "code",
      "metadata": {
        "colab": {
          "base_uri": "https://localhost:8080/"
        },
        "id": "memnVZlPPnQ2",
        "outputId": "e4b4d093-f792-41d3-929e-d5943b767f9f"
      },
      "source": [
        "!rm /content/checkpoints/*\n",
        "!ls /content/checkpoints"
      ],
      "execution_count": 49,
      "outputs": [
        {
          "output_type": "stream",
          "text": [
            "rm: cannot remove '/content/checkpoints/*': No such file or directory\n",
            "ls: cannot access '/content/checkpoints': No such file or directory\n"
          ],
          "name": "stdout"
        }
      ]
    },
    {
      "cell_type": "code",
      "metadata": {
        "colab": {
          "base_uri": "https://localhost:8080/"
        },
        "id": "MCXq2Ij1PqKU",
        "outputId": "e7adc2ac-2ac5-404b-a70f-4ed72910e5ea"
      },
      "source": [
        "epochs=2\n",
        "model_format = 'model.{epoch:02d}-{val_accuracy:.2f}.h5'\n",
        "path = (f'/content/checkpoints/{model_format}')\n",
        "callbacks = [\n",
        "    tf.keras.callbacks.EarlyStopping(patience=12),\n",
        "    tf.keras.callbacks.ModelCheckpoint(filepath=path, save_weights_only=True,\n",
        "                                       save_best_only=True, monitor='val_accuracy', mode='max', verbose=1),\n",
        "]\n",
        "history = model.fit(train_dataset,\n",
        "                    validation_data=validation_dataset,\n",
        "                    epochs=epochs, callbacks=callbacks)"
      ],
      "execution_count": 51,
      "outputs": [
        {
          "output_type": "stream",
          "text": [
            "Epoch 1/2\n",
            "2/2 [==============================] - 13s 11s/step - loss: 0.7063 - accuracy: 0.5125 - val_loss: 0.6930 - val_accuracy: 0.6500\n",
            "\n",
            "Epoch 00001: val_accuracy improved from -inf to 0.65000, saving model to /content/checkpoints/model.01-0.65.h5\n",
            "Epoch 2/2\n",
            "2/2 [==============================] - 13s 3s/step - loss: 0.6947 - accuracy: 0.5125 - val_loss: 0.6929 - val_accuracy: 0.6750\n",
            "\n",
            "Epoch 00002: val_accuracy improved from 0.65000 to 0.67500, saving model to /content/checkpoints/model.02-0.68.h5\n"
          ],
          "name": "stdout"
        }
      ]
    },
    {
      "cell_type": "code",
      "metadata": {
        "colab": {
          "base_uri": "https://localhost:8080/",
          "height": 336
        },
        "id": "Aei3Sr66QBGP",
        "outputId": "b9f566fc-9ffe-46c1-f59f-c5e205d02759"
      },
      "source": [
        "import matplotlib.pyplot as plt\n",
        "\n",
        "plt.figure(figsize=(20,5))\n",
        "plt.subplot(121)\n",
        "plt.title('Training loss by epochs')\n",
        "plt.plot(history.history['loss'], label='train')\n",
        "plt.plot(history.history['val_loss'], label='validation')\n",
        "plt.legend()\n",
        "plt.subplot(122)\n",
        "plt.title('Training accuracy by epochs')\n",
        "plt.plot(history.history['accuracy'], label='train')\n",
        "plt.plot(history.history['val_accuracy'], label='validation')\n",
        "plt.legend\n",
        "plt.show()"
      ],
      "execution_count": 52,
      "outputs": [
        {
          "output_type": "display_data",
          "data": {
            "image/png": "[encoded data removed]",
            "text/plain": [
              "<Figure size 1440x360 with 2 Axes>"
            ]
          },
          "metadata": {
            "tags": [],
            "needs_background": "light"
          }
        }
      ]
    },
    {
      "cell_type": "code",
      "metadata": {
        "colab": {
          "base_uri": "https://localhost:8080/"
        },
        "id": "otIGMWv2RYXI",
        "outputId": "9303a6e1-9b00-4bac-8196-f8b89a805ac7"
      },
      "source": [
        "!ls -la checkpoints"
      ],
      "execution_count": 53,
      "outputs": [
        {
          "output_type": "stream",
          "text": [
            "total 5520\n",
            "drwxr-xr-x 2 root root    4096 Jun  7 16:55 .\n",
            "drwxr-xr-x 1 root root    4096 Jun  7 16:55 ..\n",
            "-rw-r--r-- 1 root root 2819896 Jun  7 16:55 model.01-0.65.h5\n",
            "-rw-r--r-- 1 root root 2819896 Jun  7 16:55 model.02-0.68.h5\n"
          ],
          "name": "stdout"
        }
      ]
    },
    {
      "cell_type": "code",
      "metadata": {
        "colab": {
          "base_uri": "https://localhost:8080/"
        },
        "id": "Q9F3pX0NZ-Ro",
        "outputId": "9ac67b87-d4b9-465f-90cc-8d7a594bb54f"
      },
      "source": [
        "loaded_model = get_model()\n",
        "loaded_model.compile(optimizer=tf.keras.optimizers.RMSprop(),\n",
        "              loss=tf.keras.losses.binary_crossentropy,\n",
        "              metrics=['accuracy'])\n",
        "loaded_model.load_weights('/content/checkpoints/model.02-0.68.h5')\n",
        "res = loaded_model.evaluate(test_dataset)\n"
      ],
      "execution_count": 55,
      "outputs": [
        {
          "output_type": "stream",
          "text": [
            "WARNING:tensorflow:5 out of the last 8 calls to <function Model.make_test_function.<locals>.test_function at 0x7f48fa150170> triggered tf.function retracing. Tracing is expensive and the excessive number of tracings could be due to (1) creating @tf.function repeatedly in a loop, (2) passing tensors with different shapes, (3) passing Python objects instead of tensors. For (1), please define your @tf.function outside of the loop. For (2), @tf.function has experimental_relax_shapes=True option that relaxes argument shapes that can avoid unnecessary retracing. For (3), please refer to https://www.tensorflow.org/guide/function#controlling_retracing and https://www.tensorflow.org/api_docs/python/tf/function for  more details.\n",
            "7/7 [==============================] - 204s 2s/step - loss: 0.6938 - accuracy: 0.4563\n"
          ],
          "name": "stdout"
        }
      ]
    },
    {
      "cell_type": "code",
      "metadata": {
        "colab": {
          "base_uri": "https://localhost:8080/"
        },
        "id": "IFCPlt3xbdl_",
        "outputId": "58eebadb-86e2-42fe-d7e2-26a5048e6718"
      },
      "source": [
        "res_furniture = loaded_model.evaluate(test_furniture_dataset)"
      ],
      "execution_count": 56,
      "outputs": [
        {
          "output_type": "stream",
          "text": [
            "7/7 [==============================] - 205s 2s/step - loss: 0.6929 - accuracy: 0.5813\n"
          ],
          "name": "stdout"
        }
      ]
    },
    {
      "cell_type": "code",
      "metadata": {
        "colab": {
          "base_uri": "https://localhost:8080/"
        },
        "id": "19PPbhwscrlY",
        "outputId": "4b6c4ac7-1dc7-4954-f753-16ee5ac3ac8e"
      },
      "source": [
        "print('test accuracy:', res[1], '\\n', 'test furniture accuracy:', res_furniture[1])"
      ],
      "execution_count": 57,
      "outputs": [
        {
          "output_type": "stream",
          "text": [
            "test accuracy: 0.45625001192092896 \n",
            " test furniture accuracy: 0.581250011920929\n"
          ],
          "name": "stdout"
        }
      ]
    }
  ]
}