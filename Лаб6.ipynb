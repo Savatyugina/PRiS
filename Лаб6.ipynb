{
  "nbformat": 4,
  "nbformat_minor": 0,
  "metadata": {
    "colab": {
      "name": "Лаб6.ipynb",
      "provenance": [],
      "collapsed_sections": []
    },
    "kernelspec": {
      "name": "python3",
      "display_name": "Python 3"
    },
    "language_info": {
      "name": "python"
    }
  },
  "cells": [
    {
      "cell_type": "code",
      "metadata": {
        "colab": {
          "base_uri": "https://localhost:8080/",
          "height": 53
        },
        "id": "vUYtogiQWP6P",
        "outputId": "b26f5ba8-4fef-4c9e-c718-75014ae56d9f"
      },
      "source": [
        "%tensorflow_version 1.x\n",
        "import tensorflow as tf\n",
        "\n",
        "tf.__version__"
      ],
      "execution_count": null,
      "outputs": [
        {
          "output_type": "stream",
          "text": [
            "TensorFlow 1.x selected.\n"
          ],
          "name": "stdout"
        },
        {
          "output_type": "execute_result",
          "data": {
            "application/vnd.google.colaboratory.intrinsic+json": {
              "type": "string"
            },
            "text/plain": [
              "'1.15.2'"
            ]
          },
          "metadata": {
            "tags": []
          },
          "execution_count": 1
        }
      ]
    },
    {
      "cell_type": "code",
      "metadata": {
        "id": "ObLfeHIHWiP1"
      },
      "source": [
        "import numpy as np\n",
        "from collections import Counter\n",
        "from sklearn.datasets import fetch_20newsgroups\n",
        "import re"
      ],
      "execution_count": null,
      "outputs": []
    },
    {
      "cell_type": "code",
      "metadata": {
        "id": "mpFb-JjiWjwG",
        "colab": {
          "base_uri": "https://localhost:8080/"
        },
        "outputId": "4c67985e-3043-409c-af10-41796a808c9a"
      },
      "source": [
        "n_classes = 3 \n",
        "categories = [\"comp.sys.ibm.pc.hardware\", \"rec.motorcycles\", \"talk.politics.mideast\"]\n",
        "newsgroups_train = fetch_20newsgroups(subset='train', categories=categories)\n",
        "newsgroups_test = fetch_20newsgroups(subset='test', categories=categories)\n",
        "\n",
        "vocab = Counter()\n",
        "\n",
        "def replace_all(text, sep_list, replace_to):\n",
        "  for sep in sep_list:\n",
        "      text = text.replace(sep, replace_to)\n",
        "  return text\n",
        "\n",
        "\n",
        "for text in newsgroups_train.data:\n",
        "  text = replace_all(text, ['.', ',', '*', '(', ')', '@', '!', '?', '\"', '...', ':', '-', '|', '+', '>', '  '], ' ')\n",
        "  for word in text.split(' '):\n",
        "      vocab[word.lower()] += 1\n",
        "    \n",
        "for text in newsgroups_test.data:\n",
        "    text = replace_all(text, ['.', ',', '*', '(', ')', '@', '!', '?', '\"', '...', ':', '-', '|', '+', '>', '  '], ' ')\n",
        "    for word in text.split(' '):\n",
        "        vocab[word.lower()] += 1\n",
        "    \n",
        "total_words = len(vocab)\n",
        "\n",
        "print(total_words)"
      ],
      "execution_count": null,
      "outputs": [
        {
          "output_type": "stream",
          "text": [
            "Downloading 20news dataset. This may take a few minutes.\n",
            "Downloading dataset from https://ndownloader.figshare.com/files/5975967 (14 MB)\n"
          ],
          "name": "stderr"
        },
        {
          "output_type": "stream",
          "text": [
            "72900\n"
          ],
          "name": "stdout"
        }
      ]
    },
    {
      "cell_type": "code",
      "metadata": {
        "id": "fE0aw3vAWvZ9"
      },
      "source": [
        "def get_word_2_index(vocab):\n",
        "    word2index = {}\n",
        "    for i, word in enumerate(vocab):\n",
        "        word2index[word.lower()] = i\n",
        "    return word2index\n",
        "\n",
        "word2index = get_word_2_index(vocab)"
      ],
      "execution_count": null,
      "outputs": []
    },
    {
      "cell_type": "code",
      "metadata": {
        "id": "EEw4hgVpWxKe"
      },
      "source": [
        "def get_batch(df, i, batch_size):\n",
        "    batches = []\n",
        "    results = []\n",
        "    texts = df.data[i * batch_size:i * batch_size + batch_size]\n",
        "    categories = df.target[i * batch_size:i * batch_size + batch_size]\n",
        "    for text in texts:\n",
        "        layer = np.zeros(total_words, dtype=float)\n",
        "        text = replace_all(text, ['.', ',', '*', '(', ')', '@', '!', '?', '\"', '...', ':', '-', '|', '+', '>', '  '], ' ')\n",
        "        for word in text.split(' '):\n",
        "            layer[word2index[word.lower()]] += 1\n",
        "        batches.append(layer)\n",
        "    \n",
        "    for category in categories:\n",
        "        y = np.zeros((n_classes), dtype=float)\n",
        "        y[category] = 1\n",
        "        results.append(y)\n",
        "  \n",
        "    return np.array(batches), np.array(results)"
      ],
      "execution_count": null,
      "outputs": []
    },
    {
      "cell_type": "code",
      "metadata": {
        "id": "9El5Rw-gWy7F"
      },
      "source": [
        "# Параметры обучения\n",
        "learning_rate = 0.01\n",
        "training_epochs = 10\n",
        "batch_size = 150\n",
        "display_step = 1\n",
        "\n",
        "# Network Parameters\n",
        "n_hidden_1 = 500 # скрытый слой\n",
        "n_hidden_2 = 170 # скрытый слой\n",
        "n_hidden_3 = 70 # скрытый слой\n",
        "\n",
        "n_input = total_words # количество уникальных слов в наших текстах\n",
        "\n",
        "input_tensor = tf.placeholder(tf.float32,[None, n_input],name=\"input\")\n",
        "output_tensor = tf.placeholder(tf.float32,[None, n_classes],name=\"output\")"
      ],
      "execution_count": null,
      "outputs": []
    },
    {
      "cell_type": "code",
      "metadata": {
        "id": "RY1hH5_LW7Dv",
        "colab": {
          "base_uri": "https://localhost:8080/"
        },
        "outputId": "fce891f6-eb76-4226-d200-4558850d642a"
      },
      "source": [
        "def multilayer_perceptron(input_tensor, weights, biases):\n",
        "    # скрытый слой\n",
        "    layer_1_multiplication = tf.matmul(input_tensor, weights['h1'])\n",
        "    layer_1_addition = tf.add(layer_1_multiplication, biases['b1'])\n",
        "    layer_1 = tf.nn.relu(layer_1_addition)\n",
        "    \n",
        "    # скрытый слой\n",
        "    layer_2_multiplication = tf.matmul(layer_1, weights['h2'])\n",
        "    layer_2_addition = tf.add(layer_2_multiplication, biases['b2'])\n",
        "    layer_2 = tf.nn.relu(layer_2_addition)\n",
        "  \n",
        "    # скрытый слой\n",
        "    layer_3_multiplication = tf.matmul(layer_2, weights['h3'])\n",
        "    layer_3_addition = tf.add(layer_3_multiplication, biases['b3'])\n",
        "    layer_3 = tf.nn.relu(layer_3_addition)\n",
        "\n",
        "    # выходной слой\n",
        "    out_layer_multiplication = tf.matmul(layer_3, weights['out'])\n",
        "    out_layer_addition = out_layer_multiplication + biases['out']\n",
        "    \n",
        "    return out_layer_addition\n",
        "\n",
        "# инициализация параметров сети\n",
        "weights = {\n",
        "  'h1': tf.Variable(tf.random_normal([n_input, n_hidden_1])),\n",
        "  'h2': tf.Variable(tf.random_normal([n_hidden_1, n_hidden_2])),\n",
        "  'h3': tf.Variable(tf.random_normal([n_hidden_2, n_hidden_3])),\n",
        "  'out': tf.Variable(tf.random_normal([n_hidden_3, n_classes]))\n",
        "}\n",
        "biases = {\n",
        "  'b1': tf.Variable(tf.random_normal([n_hidden_1])),\n",
        "  'b2': tf.Variable(tf.random_normal([n_hidden_2])),\n",
        "  'b3': tf.Variable(tf.random_normal([n_hidden_3])),\n",
        "  'out': tf.Variable(tf.random_normal([n_classes]))\n",
        "}\n",
        "# создание модели\n",
        "prediction = multilayer_perceptron(input_tensor, weights, biases)\n",
        "\n",
        "# Фукнция потерь\n",
        "loss = tf.reduce_mean(tf.nn.softmax_cross_entropy_with_logits(logits=prediction, labels=output_tensor))\n",
        "optimizer = tf.train.AdamOptimizer(learning_rate=learning_rate).minimize(loss)\n",
        "\n",
        "init = tf.global_variables_initializer()"
      ],
      "execution_count": null,
      "outputs": [
        {
          "output_type": "stream",
          "text": [
            "WARNING:tensorflow:From <ipython-input-7-a07b7bb928a2>:40: softmax_cross_entropy_with_logits (from tensorflow.python.ops.nn_ops) is deprecated and will be removed in a future version.\n",
            "Instructions for updating:\n",
            "\n",
            "Future major versions of TensorFlow will allow gradients to flow\n",
            "into the labels input on backprop by default.\n",
            "\n",
            "See `tf.nn.softmax_cross_entropy_with_logits_v2`.\n",
            "\n"
          ],
          "name": "stdout"
        }
      ]
    },
    {
      "cell_type": "code",
      "metadata": {
        "colab": {
          "base_uri": "https://localhost:8080/"
        },
        "id": "rPIXfhEyW-lV",
        "outputId": "1e090b98-78d6-4421-c33d-10c38f8733a2"
      },
      "source": [
        "with tf.Session() as sess:\n",
        "    sess.run(init)\n",
        "    \n",
        "    for epoch in range(training_epochs):\n",
        "        avg_cost = 0.\n",
        "        total_batch = int(len(newsgroups_train.data)/batch_size)\n",
        "        for i in range(total_batch):\n",
        "            batch_x,batch_y = get_batch(newsgroups_train,i,batch_size)\n",
        "            c,_ = sess.run([loss,optimizer], feed_dict={input_tensor: batch_x,output_tensor:batch_y})\n",
        "            avg_cost += c / total_batch\n",
        "        print(\"Эпоха:\", '%04d' % (epoch+1), \"loss=\", \"{:.16f}\".format(avg_cost))\n",
        "    print(\"Обучение завершено!\")\n",
        "    \n",
        "    correct_prediction = tf.equal(tf.argmax(prediction, 1), tf.argmax(output_tensor, 1))\n",
        "    accuracy = tf.reduce_mean(tf.cast(correct_prediction, \"float\"))\n",
        "    total_test_data = len(newsgroups_test.target)\n",
        "    batch_x_test, batch_y_test = get_batch(newsgroups_test, 0, total_test_data)\n",
        "    print(\"Точность:\", accuracy.eval({input_tensor: batch_x_test, output_tensor: batch_y_test}))"
      ],
      "execution_count": null,
      "outputs": [
        {
          "output_type": "stream",
          "text": [
            "Эпоха: 0001 loss= 17354.0670720880698354\n",
            "Эпоха: 0002 loss= 3249.2376875443892459\n",
            "Эпоха: 0003 loss= 1159.3603224320845584\n",
            "Эпоха: 0004 loss= 125.7374197353016143\n",
            "Эпоха: 0005 loss= 182.5584813898259995\n",
            "Эпоха: 0006 loss= 54.2907676696777344\n",
            "Эпоха: 0007 loss= 3.6850589405406606\n",
            "Эпоха: 0008 loss= 16.2527360916137695\n",
            "Эпоха: 0009 loss= 0.7453444220803001\n",
            "Эпоха: 0010 loss= 0.0000000000000000\n",
            "Обучение завершено!\n",
            "Точность: 0.8859348\n"
          ],
          "name": "stdout"
        }
      ]
    },
    {
      "cell_type": "code",
      "metadata": {
        "id": "HplHR4yKuYqv"
      },
      "source": [
        ""
      ],
      "execution_count": null,
      "outputs": []
    },
    {
      "cell_type": "markdown",
      "metadata": {
        "id": "Dw7oR6HlvXku"
      },
      "source": [
        "1. Поиск тональностей\n",
        "2. "
      ]
    }
  ]
}